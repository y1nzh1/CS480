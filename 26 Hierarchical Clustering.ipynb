{
 "cells": [
  {
   "cell_type": "markdown",
   "metadata": {},
   "source": [
    "$\\newcommand{\\xv}{\\mathbf{x}}\n",
    "\\newcommand{\\Xv}{\\mathbf{X}}\n",
    "\\newcommand{\\piv}{\\mathbf{\\pi}}\n",
    "\\newcommand{\\yv}{\\mathbf{y}}\n",
    "\\newcommand{\\Yv}{\\mathbf{Y}}\n",
    "\\newcommand{\\zv}{\\mathbf{z}}\n",
    "\\newcommand{\\av}{\\mathbf{a}}\n",
    "\\newcommand{\\Wv}{\\mathbf{W}}\n",
    "\\newcommand{\\wv}{\\mathbf{w}}\n",
    "\\newcommand{\\gv}{\\mathbf{g}}\n",
    "\\newcommand{\\Hv}{\\mathbf{H}}\n",
    "\\newcommand{\\dv}{\\mathbf{d}}\n",
    "\\newcommand{\\Vv}{\\mathbf{V}}\n",
    "\\newcommand{\\vv}{\\mathbf{v}}\n",
    "\\newcommand{\\tv}{\\mathbf{t}}\n",
    "\\newcommand{\\Tv}{\\mathbf{T}}\n",
    "\\newcommand{\\Sv}{\\mathbf{S}}\n",
    "\\newcommand{\\zv}{\\mathbf{z}}\n",
    "\\newcommand{\\Zv}{\\mathbf{Z}}\n",
    "\\newcommand{\\Norm}{\\mathcal{N}}\n",
    "\\newcommand{\\muv}{\\boldsymbol{\\mu}}\n",
    "\\newcommand{\\sigmav}{\\boldsymbol{\\sigma}}\n",
    "\\newcommand{\\phiv}{\\boldsymbol{\\phi}}\n",
    "\\newcommand{\\Phiv}{\\boldsymbol{\\Phi}}\n",
    "\\newcommand{\\Sigmav}{\\boldsymbol{\\Sigma}}\n",
    "\\newcommand{\\Lambdav}{\\boldsymbol{\\Lambda}}\n",
    "\\newcommand{\\half}{\\frac{1}{2}}\n",
    "\\newcommand{\\argmax}[1]{\\underset{#1}{\\operatorname{argmax}}}\n",
    "\\newcommand{\\argmin}[1]{\\underset{#1}{\\operatorname{argmin}}}\n",
    "\\newcommand{\\dimensionbar}[1]{\\underset{#1}{\\operatorname{|}}}\n",
    "$"
   ]
  },
  {
   "cell_type": "markdown",
   "metadata": {},
   "source": [
    "# Hierarchical Clustering"
   ]
  },
  {
   "cell_type": "markdown",
   "metadata": {},
   "source": [
    "Hierarchical clustering is often used to construct dendrograms.  We will see an example below.  \n",
    "\n",
    "The methods are straightforward.  The similarity between pairs of samples is usually related to the Euclidean distance between them.  In *agglomerative* clustering, initially each sample is in a unique cluster.  Then, the most similar two clusters are merged.  This continues until a single cluster results that contains all samples.  The distance between two clusters, $C_i$ and $C_j$, can be determined by the *single-link* method\n",
    "$$\n",
    "d(C_i,C_j) = \\min_{\\xv\\in C_i, \\yv\\in C_j} d(\\xv,\\yv)\n",
    "$$\n",
    "or *complete-link* method\n",
    "$$\n",
    "d(C_i,C_j) = \\max_{\\xv\\in C_i, \\yv\\in C_j} d(\\xv,\\yv)\n",
    "$$\n",
    "where $d(\\xv,\\yv)$ is the Euclidean distance between $\\xv$ and $\\yv$.\n",
    "\n",
    "In *divisive* clustering, all samples are initially in one cluster, which is successively split until all samples are in unique clusters.  We will use *agglomerative* clustering, as it often results in more compact dendrograms."
   ]
  },
  {
   "cell_type": "code",
   "execution_count": 1,
   "metadata": {
    "collapsed": false
   },
   "outputs": [],
   "source": [
    "import numpy as np\n",
    "import matplotlib.pyplot as plt\n",
    "%matplotlib inline"
   ]
  },
  {
   "cell_type": "markdown",
   "metadata": {},
   "source": [
    "Let's represent clusters as a list of sample matrices, each matrix containing samples from one cluster.  Initially, all samples are in their own clusters.  Let's use the Old Faithful data to develop our implementation."
   ]
  },
  {
   "cell_type": "code",
   "execution_count": 2,
   "metadata": {
    "collapsed": false
   },
   "outputs": [
    {
     "name": "stdout",
     "output_type": "stream",
     "text": [
      "--2017-04-21 08:01:41--  http://www.cs.colostate.edu/~anderson/cs480/notebooks/oldfaithful.csv\r\n",
      "Resolving www.cs.colostate.edu (www.cs.colostate.edu)... 129.82.45.114\r\n",
      "Connecting to www.cs.colostate.edu (www.cs.colostate.edu)|129.82.45.114|:80... connected.\r\n",
      "HTTP request sent, awaiting response... 200 OK\r\n",
      "Length: 3808 (3.7K) [text/csv]\r\n",
      "Saving to: ‘oldfaithful.csv’\r\n",
      "\r\n",
      "\r",
      "oldfaithful.csv       0%[                    ]       0  --.-KB/s               \r",
      "oldfaithful.csv     100%[===================>]   3.72K  --.-KB/s    in 0s      \r\n",
      "\r\n",
      "2017-04-21 08:01:41 (252 MB/s) - ‘oldfaithful.csv’ saved [3808/3808]\r\n",
      "\r\n"
     ]
    }
   ],
   "source": [
    "!wget http://www.cs.colostate.edu/~anderson/cs480/notebooks/oldfaithful.csv"
   ]
  },
  {
   "cell_type": "code",
   "execution_count": 3,
   "metadata": {
    "collapsed": true
   },
   "outputs": [],
   "source": [
    "data = np.loadtxt('oldfaithful.csv')"
   ]
  },
  {
   "cell_type": "code",
   "execution_count": 4,
   "metadata": {
    "collapsed": false
   },
   "outputs": [
    {
     "data": {
      "text/plain": [
       "(272, 2)"
      ]
     },
     "execution_count": 4,
     "metadata": {},
     "output_type": "execute_result"
    }
   ],
   "source": [
    "data.shape"
   ]
  },
  {
   "cell_type": "code",
   "execution_count": 5,
   "metadata": {
    "collapsed": false
   },
   "outputs": [
    {
     "data": {
      "image/png": "[encoded data removed]",
      "text/plain": [
       "<matplotlib.figure.Figure at 0x7f9058399a20>"
      ]
     },
     "metadata": {},
     "output_type": "display_data"
    }
   ],
   "source": [
    "plt.scatter(data[:,0],data[:,1]);\n",
    "plt.xlabel('Duration');\n",
    "plt.ylabel('Interval');"
   ]
  },
  {
   "cell_type": "code",
   "execution_count": 6,
   "metadata": {
    "collapsed": false
   },
   "outputs": [
    {
     "data": {
      "text/plain": [
       "[array([  3.6,  79. ]),\n",
       " array([  1.8,  54. ]),\n",
       " array([  3.333,  74.   ]),\n",
       " array([  2.283,  62.   ]),\n",
       " array([  4.533,  85.   ])]"
      ]
     },
     "execution_count": 6,
     "metadata": {},
     "output_type": "execute_result"
    }
   ],
   "source": [
    "clusters = [d for d in data]\n",
    "clusters[:5]"
   ]
  },
  {
   "cell_type": "markdown",
   "metadata": {},
   "source": [
    "Now we need the *complete-linkage* cluster distance function."
   ]
  },
  {
   "cell_type": "code",
   "execution_count": 7,
   "metadata": {
    "collapsed": false
   },
   "outputs": [
    {
     "data": {
      "text/plain": [
       "([array([[1, 2]]), array([[2, 3]])], [array([[2, 2]]), array([[6, 7]])])"
      ]
     },
     "execution_count": 7,
     "metadata": {},
     "output_type": "execute_result"
    }
   ],
   "source": [
    "C1 = [np.array([[1,2]]), np.array([[2,3]])]\n",
    "C2 = [np.array([[2,2]]), np.array([[6,7]])]\n",
    "C1,C2\n",
    "               "
   ]
  },
  {
   "cell_type": "code",
   "execution_count": 8,
   "metadata": {
    "collapsed": false
   },
   "outputs": [
    {
     "data": {
      "text/plain": [
       "(array([[1, 2],\n",
       "        [2, 3]]), array([[2, 2],\n",
       "        [6, 7]]))"
      ]
     },
     "execution_count": 8,
     "metadata": {},
     "output_type": "execute_result"
    }
   ],
   "source": [
    "allC1 = np.vstack((C1))\n",
    "allC2 = np.vstack((C2))\n",
    "allC1,allC2"
   ]
  },
  {
   "cell_type": "code",
   "execution_count": 9,
   "metadata": {
    "collapsed": false
   },
   "outputs": [
    {
     "data": {
      "text/plain": [
       "array([[[-1,  0],\n",
       "        [-5, -5]],\n",
       "\n",
       "       [[ 0,  1],\n",
       "        [-4, -4]]])"
      ]
     },
     "execution_count": 9,
     "metadata": {},
     "output_type": "execute_result"
    }
   ],
   "source": [
    "allC1[:,np.newaxis,:] - allC2"
   ]
  },
  {
   "cell_type": "code",
   "execution_count": 10,
   "metadata": {
    "collapsed": false
   },
   "outputs": [
    {
     "data": {
      "text/plain": [
       "array([[ 1, 50],\n",
       "       [ 1, 32]])"
      ]
     },
     "execution_count": 10,
     "metadata": {},
     "output_type": "execute_result"
    }
   ],
   "source": [
    "np.sum((allC1[:,np.newaxis,:] - allC2)**2,axis=2)"
   ]
  },
  {
   "cell_type": "code",
   "execution_count": 11,
   "metadata": {
    "collapsed": false
   },
   "outputs": [
    {
     "data": {
      "text/plain": [
       "50"
      ]
     },
     "execution_count": 11,
     "metadata": {},
     "output_type": "execute_result"
    }
   ],
   "source": [
    "np.max(np.sum((allC1[:,np.newaxis,:] - allC2)**2,axis=2))"
   ]
  },
  {
   "cell_type": "markdown",
   "metadata": {},
   "source": [
    "So, the maximum square distance between $C_1$ and $C_2$ is 50."
   ]
  },
  {
   "cell_type": "code",
   "execution_count": 12,
   "metadata": {
    "collapsed": true
   },
   "outputs": [],
   "source": [
    "def clusterDistance(Ci,Cj):\n",
    "    allCi = np.vstack((Ci))\n",
    "    allCj = np.vstack((Cj))\n",
    "    return np.max(np.sum((allCi[:,np.newaxis,:] - allCj)**2, axis=2))"
   ]
  },
  {
   "cell_type": "code",
   "execution_count": 13,
   "metadata": {
    "collapsed": false
   },
   "outputs": [
    {
     "data": {
      "text/plain": [
       "50"
      ]
     },
     "execution_count": 13,
     "metadata": {},
     "output_type": "execute_result"
    }
   ],
   "source": [
    "clusterDistance(C1,C2)"
   ]
  },
  {
   "cell_type": "markdown",
   "metadata": {},
   "source": [
    "All that is left is a way to identify to two clusters with the minimum distance."
   ]
  },
  {
   "cell_type": "code",
   "execution_count": 14,
   "metadata": {
    "collapsed": true
   },
   "outputs": [],
   "source": [
    "C3 = [np.array([[6,4]]), np.array([[8,9]])]"
   ]
  },
  {
   "cell_type": "code",
   "execution_count": 15,
   "metadata": {
    "collapsed": false
   },
   "outputs": [
    {
     "data": {
      "text/plain": [
       "[[array([[1, 2]]), array([[2, 3]])],\n",
       " [array([[2, 2]]), array([[6, 7]])],\n",
       " [array([[6, 4]]), array([[8, 9]])]]"
      ]
     },
     "execution_count": 15,
     "metadata": {},
     "output_type": "execute_result"
    }
   ],
   "source": [
    "clusters = [C1, C2, C3]\n",
    "clusters"
   ]
  },
  {
   "cell_type": "code",
   "execution_count": 16,
   "metadata": {
    "collapsed": false
   },
   "outputs": [
    {
     "name": "stdout",
     "output_type": "stream",
     "text": [
      "0 1\n",
      "0 2\n",
      "1 2\n"
     ]
    }
   ],
   "source": [
    "for i in range(len(clusters)-1):\n",
    "    for j in range(i+1,len(clusters)):\n",
    "        print(i,j)"
   ]
  },
  {
   "cell_type": "code",
   "execution_count": 17,
   "metadata": {
    "collapsed": false
   },
   "outputs": [
    {
     "data": {
      "text/plain": [
       "[[0, 1, 50], [0, 2, 98], [1, 2, 85]]"
      ]
     },
     "execution_count": 17,
     "metadata": {},
     "output_type": "execute_result"
    }
   ],
   "source": [
    "dists = []\n",
    "for i in range(len(clusters)-1):\n",
    "    for j in range(i+1,len(clusters)):\n",
    "        dists.append([i,j,clusterDistance(clusters[i],clusters[j])])\n",
    "dists"
   ]
  },
  {
   "cell_type": "markdown",
   "metadata": {},
   "source": [
    "or"
   ]
  },
  {
   "cell_type": "code",
   "execution_count": 18,
   "metadata": {
    "collapsed": false
   },
   "outputs": [
    {
     "data": {
      "text/plain": [
       "[[0, 1, 50], [0, 2, 98], [1, 2, 85]]"
      ]
     },
     "execution_count": 18,
     "metadata": {},
     "output_type": "execute_result"
    }
   ],
   "source": [
    "[[i,j,clusterDistance(clusters[i],clusters[j])] for i in range(len(clusters)-1) for j in range(i+1,len(clusters))]"
   ]
  },
  {
   "cell_type": "code",
   "execution_count": 71,
   "metadata": {
    "collapsed": true
   },
   "outputs": [],
   "source": [
    "def clusterDistance(Ci,Cj):\n",
    "    '''Ci and Cj are two clusters, each being a dict with 'X' and 'label' keys'''\n",
    "    return np.mean(np.sum((Ci['X'][:,np.newaxis,:] - Cj['X'])**2, axis=2))\n",
    "    # return np.min(np.sum((Ci['X'][:,np.newaxis,:] - Cj['X'])**2, axis=2))\n",
    "    # return np.max(np.sum((Ci['X'][:,np.newaxis,:] - Cj['X'])**2, axis=2))"
   ]
  },
  {
   "cell_type": "markdown",
   "metadata": {},
   "source": [
    "So, clusters at indices 0 and 1 are closest.  We can merge these two using `np.vstack`.  Now we are ready to write the function."
   ]
  },
  {
   "cell_type": "code",
   "execution_count": 72,
   "metadata": {
    "collapsed": false
   },
   "outputs": [],
   "source": [
    "def mergeClusters(Ci,Cj, k):\n",
    "    return {'X': np.vstack((Ci['X'], Cj['X'])),\n",
    "            'label': k}"
   ]
  },
  {
   "cell_type": "markdown",
   "metadata": {},
   "source": [
    "Now for a simple, but very inefficient, implementation of agglomerative clustering."
   ]
  },
  {
   "cell_type": "code",
   "execution_count": 73,
   "metadata": {
    "collapsed": false
   },
   "outputs": [],
   "source": [
    "def agglomerative(X,clusterDistanceF, nClusters):\n",
    "    labels = np.zeros((X.shape[0]))\n",
    "    # clusters is list of pairs of sample and label\n",
    "    clusters = [ {'X':X[i:i+1,:], 'label':i} for i in range(X.shape[0]) ]\n",
    "    k = X.shape[0] - 1\n",
    "    while len(clusters) > nClusters:\n",
    "        dists = np.array( [[i,j,clusterDistance(clusters[i],clusters[j])] for i in range(len(clusters)-1) for j in range(i+1,len(clusters))] )\n",
    "        whichClosest = np.argmin(dists[:,-1])\n",
    "        closest = dists[whichClosest,:2]\n",
    "        i,j = closest.astype(int)\n",
    "        # Merge them\n",
    "        k += 1\n",
    "        clusters[i] = {'X': np.vstack((clusters[i]['X'],clusters[j]['X'])),\n",
    "                       'label': k}\n",
    "        clusters.pop(j)\n",
    "        print(len(clusters), end=' ')\n",
    "    return clusters"
   ]
  },
  {
   "cell_type": "code",
   "execution_count": 74,
   "metadata": {
    "collapsed": false
   },
   "outputs": [
    {
     "data": {
      "text/plain": [
       "(272, 2)"
      ]
     },
     "execution_count": 74,
     "metadata": {},
     "output_type": "execute_result"
    }
   ],
   "source": [
    "data.shape"
   ]
  },
  {
   "cell_type": "code",
   "execution_count": 75,
   "metadata": {
    "collapsed": false
   },
   "outputs": [
    {
     "name": "stdout",
     "output_type": "stream",
     "text": [
      "271 270 269 268 267 266 265 264 263 262 261 260 259 258 257 256 255 254 253 252 251 250 249 248 247 246 245 244 243 242 241 240 239 238 237 236 235 234 233 232 231 230 229 228 227 226 225 224 223 222 221 220 219 218 217 216 215 214 213 212 211 210 209 208 207 206 205 204 203 202 201 200 199 198 197 196 195 194 193 192 191 190 189 188 187 186 185 184 183 182 181 180 179 178 177 176 175 174 173 172 171 170 169 168 167 166 165 164 163 162 161 160 159 158 157 156 155 154 153 152 151 150 149 148 147 146 145 144 143 142 141 140 139 138 137 136 135 134 133 132 131 130 129 128 127 126 125 124 123 122 121 120 119 118 117 116 115 114 113 112 111 110 109 108 107 106 105 104 103 102 101 100 99 98 97 96 95 94 93 92 91 90 89 88 87 86 85 84 83 82 81 80 79 78 77 76 75 74 73 72 71 70 69 68 67 66 65 64 63 62 61 60 59 58 57 56 55 54 53 52 51 50 49 48 47 46 45 44 43 42 41 40 39 38 37 36 35 34 33 32 31 30 29 28 27 26 25 24 23 22 21 20 19 18 17 16 15 14 13 12 11 10 9 8 7 6 5 4 3 2 "
     ]
    }
   ],
   "source": [
    "clusters = agglomerative(data,clusterDistance, 2)"
   ]
  },
  {
   "cell_type": "code",
   "execution_count": 76,
   "metadata": {
    "collapsed": false
   },
   "outputs": [
    {
     "data": {
      "text/plain": [
       "[{'X': array([[  3.6  ,  79.   ],\n",
       "         [  3.733,  79.   ],\n",
       "         [  3.95 ,  79.   ],\n",
       "         [  4.25 ,  79.   ],\n",
       "         [  4.283,  79.   ],\n",
       "         [  4.117,  79.   ],\n",
       "         [  4.433,  79.   ],\n",
       "         [  4.417,  79.   ],\n",
       "         [  4.5  ,  79.   ],\n",
       "         [  4.55 ,  79.   ],\n",
       "         [  4.2  ,  78.   ],\n",
       "         [  4.167,  78.   ],\n",
       "         [  4.267,  78.   ],\n",
       "         [  4.   ,  78.   ],\n",
       "         [  4.083,  78.   ],\n",
       "         [  3.85 ,  78.   ],\n",
       "         [  3.833,  78.   ],\n",
       "         [  4.7  ,  78.   ],\n",
       "         [  4.667,  78.   ],\n",
       "         [  4.567,  78.   ],\n",
       "         [  4.6  ,  78.   ],\n",
       "         [  4.817,  78.   ],\n",
       "         [  4.767,  78.   ],\n",
       "         [  4.433,  78.   ],\n",
       "         [  3.45 ,  78.   ],\n",
       "         [  4.083,  76.   ],\n",
       "         [  4.15 ,  76.   ],\n",
       "         [  4.333,  76.   ],\n",
       "         [  4.233,  76.   ],\n",
       "         [  3.883,  76.   ],\n",
       "         [  3.95 ,  76.   ],\n",
       "         [  5.067,  76.   ],\n",
       "         [  4.583,  76.   ],\n",
       "         [  4.8  ,  76.   ],\n",
       "         [  4.467,  77.   ],\n",
       "         [  4.366,  77.   ],\n",
       "         [  4.367,  77.   ],\n",
       "         [  4.25 ,  77.   ],\n",
       "         [  4.283,  77.   ],\n",
       "         [  4.567,  77.   ],\n",
       "         [  4.583,  77.   ],\n",
       "         [  4.583,  77.   ],\n",
       "         [  4.   ,  77.   ],\n",
       "         [  3.966,  77.   ],\n",
       "         [  4.817,  77.   ],\n",
       "         [  5.033,  77.   ],\n",
       "         [  3.333,  74.   ],\n",
       "         [  3.833,  74.   ],\n",
       "         [  4.533,  74.   ],\n",
       "         [  4.467,  74.   ],\n",
       "         [  4.35 ,  74.   ],\n",
       "         [  4.167,  74.   ],\n",
       "         [  4.8  ,  75.   ],\n",
       "         [  4.733,  75.   ],\n",
       "         [  4.75 ,  75.   ],\n",
       "         [  4.483,  75.   ],\n",
       "         [  4.133,  75.   ],\n",
       "         [  4.15 ,  75.   ],\n",
       "         [  3.75 ,  75.   ],\n",
       "         [  3.833,  75.   ],\n",
       "         [  4.3  ,  73.   ],\n",
       "         [  4.067,  73.   ],\n",
       "         [  4.533,  73.   ],\n",
       "         [  4.5  ,  73.   ],\n",
       "         [  4.5  ,  73.   ],\n",
       "         [  4.7  ,  73.   ],\n",
       "         [  3.567,  73.   ],\n",
       "         [  4.3  ,  72.   ],\n",
       "         [  3.067,  69.   ],\n",
       "         [  4.067,  69.   ],\n",
       "         [  3.333,  68.   ],\n",
       "         [  3.717,  71.   ],\n",
       "         [  3.567,  71.   ],\n",
       "         [  4.   ,  71.   ],\n",
       "         [  3.917,  71.   ],\n",
       "         [  4.1  ,  70.   ],\n",
       "         [  4.083,  70.   ],\n",
       "         [  4.   ,  70.   ],\n",
       "         [  3.917,  70.   ],\n",
       "         [  2.383,  71.   ],\n",
       "         [  4.533,  85.   ],\n",
       "         [  4.6  ,  85.   ],\n",
       "         [  4.583,  85.   ],\n",
       "         [  4.35 ,  85.   ],\n",
       "         [  3.6  ,  85.   ],\n",
       "         [  4.   ,  85.   ],\n",
       "         [  3.917,  84.   ],\n",
       "         [  3.85 ,  84.   ],\n",
       "         [  4.083,  84.   ],\n",
       "         [  4.1  ,  84.   ],\n",
       "         [  4.8  ,  84.   ],\n",
       "         [  4.667,  84.   ],\n",
       "         [  4.7  ,  84.   ],\n",
       "         [  4.567,  84.   ],\n",
       "         [  4.5  ,  84.   ],\n",
       "         [  4.533,  84.   ],\n",
       "         [  4.7  ,  83.   ],\n",
       "         [  4.883,  83.   ],\n",
       "         [  4.5  ,  83.   ],\n",
       "         [  4.5  ,  83.   ],\n",
       "         [  4.417,  83.   ],\n",
       "         [  4.45 ,  83.   ],\n",
       "         [  4.45 ,  83.   ],\n",
       "         [  4.167,  83.   ],\n",
       "         [  4.25 ,  83.   ],\n",
       "         [  4.25 ,  83.   ],\n",
       "         [  3.6  ,  83.   ],\n",
       "         [  3.6  ,  83.   ],\n",
       "         [  3.767,  83.   ],\n",
       "         [  3.317,  83.   ],\n",
       "         [  4.   ,  86.   ],\n",
       "         [  4.15 ,  86.   ],\n",
       "         [  4.183,  86.   ],\n",
       "         [  4.85 ,  86.   ],\n",
       "         [  4.933,  86.   ],\n",
       "         [  4.933,  86.   ],\n",
       "         [  4.417,  87.   ],\n",
       "         [  3.5  ,  87.   ],\n",
       "         [  4.033,  80.   ],\n",
       "         [  3.817,  80.   ],\n",
       "         [  4.833,  80.   ],\n",
       "         [  4.833,  80.   ],\n",
       "         [  4.517,  80.   ],\n",
       "         [  4.633,  80.   ],\n",
       "         [  4.7  ,  80.   ],\n",
       "         [  4.35 ,  80.   ],\n",
       "         [  4.633,  82.   ],\n",
       "         [  4.5  ,  82.   ],\n",
       "         [  4.533,  82.   ],\n",
       "         [  4.333,  82.   ],\n",
       "         [  4.35 ,  82.   ],\n",
       "         [  4.383,  82.   ],\n",
       "         [  4.367,  82.   ],\n",
       "         [  4.267,  82.   ],\n",
       "         [  4.8  ,  82.   ],\n",
       "         [  4.9  ,  82.   ],\n",
       "         [  4.033,  82.   ],\n",
       "         [  3.833,  82.   ],\n",
       "         [  4.317,  81.   ],\n",
       "         [  4.333,  81.   ],\n",
       "         [  4.233,  81.   ],\n",
       "         [  4.233,  81.   ],\n",
       "         [  4.05 ,  81.   ],\n",
       "         [  4.167,  81.   ],\n",
       "         [  4.117,  81.   ],\n",
       "         [  4.633,  81.   ],\n",
       "         [  4.6  ,  81.   ],\n",
       "         [  4.5  ,  81.   ],\n",
       "         [  4.8  ,  81.   ],\n",
       "         [  3.683,  81.   ],\n",
       "         [  3.767,  81.   ],\n",
       "         [  4.7  ,  88.   ],\n",
       "         [  4.6  ,  88.   ],\n",
       "         [  4.933,  88.   ],\n",
       "         [  5.   ,  88.   ],\n",
       "         [  4.367,  88.   ],\n",
       "         [  4.15 ,  88.   ],\n",
       "         [  4.783,  90.   ],\n",
       "         [  4.716,  90.   ],\n",
       "         [  4.65 ,  90.   ],\n",
       "         [  4.333,  90.   ],\n",
       "         [  4.45 ,  90.   ],\n",
       "         [  4.417,  90.   ],\n",
       "         [  4.9  ,  89.   ],\n",
       "         [  4.333,  89.   ],\n",
       "         [  3.967,  89.   ],\n",
       "         [  4.4  ,  92.   ],\n",
       "         [  4.133,  91.   ],\n",
       "         [  4.083,  93.   ],\n",
       "         [  4.617,  93.   ],\n",
       "         [  4.8  ,  94.   ],\n",
       "         [  5.1  ,  96.   ]]), 'label': 540}, {'X': array([[  1.8  ,  54.   ],\n",
       "         [  1.833,  54.   ],\n",
       "         [  1.833,  54.   ],\n",
       "         [  1.85 ,  54.   ],\n",
       "         [  1.883,  54.   ],\n",
       "         [  1.733,  54.   ],\n",
       "         [  1.75 ,  54.   ],\n",
       "         [  2.417,  54.   ],\n",
       "         [  2.2  ,  54.   ],\n",
       "         [  2.1  ,  53.   ],\n",
       "         [  2.033,  53.   ],\n",
       "         [  1.8  ,  53.   ],\n",
       "         [  1.8  ,  53.   ],\n",
       "         [  1.867,  53.   ],\n",
       "         [  2.617,  53.   ],\n",
       "         [  2.4  ,  53.   ],\n",
       "         [  2.883,  55.   ],\n",
       "         [  1.967,  55.   ],\n",
       "         [  2.   ,  55.   ],\n",
       "         [  1.883,  55.   ],\n",
       "         [  2.267,  55.   ],\n",
       "         [  2.183,  55.   ],\n",
       "         [  1.967,  56.   ],\n",
       "         [  1.967,  56.   ],\n",
       "         [  2.   ,  56.   ],\n",
       "         [  2.8  ,  56.   ],\n",
       "         [  1.95 ,  51.   ],\n",
       "         [  1.867,  51.   ],\n",
       "         [  1.883,  51.   ],\n",
       "         [  1.8  ,  51.   ],\n",
       "         [  2.033,  51.   ],\n",
       "         [  2.25 ,  51.   ],\n",
       "         [  2.167,  52.   ],\n",
       "         [  2.017,  52.   ],\n",
       "         [  1.933,  52.   ],\n",
       "         [  1.6  ,  52.   ],\n",
       "         [  1.783,  52.   ],\n",
       "         [  1.867,  48.   ],\n",
       "         [  1.75 ,  48.   ],\n",
       "         [  2.167,  48.   ],\n",
       "         [  2.1  ,  49.   ],\n",
       "         [  2.017,  49.   ],\n",
       "         [  1.917,  49.   ],\n",
       "         [  1.933,  49.   ],\n",
       "         [  1.867,  49.   ],\n",
       "         [  1.867,  50.   ],\n",
       "         [  1.867,  50.   ],\n",
       "         [  2.317,  50.   ],\n",
       "         [  2.417,  50.   ],\n",
       "         [  2.217,  50.   ],\n",
       "         [  1.75 ,  47.   ],\n",
       "         [  1.75 ,  47.   ],\n",
       "         [  1.867,  47.   ],\n",
       "         [  2.35 ,  47.   ],\n",
       "         [  1.917,  45.   ],\n",
       "         [  1.867,  45.   ],\n",
       "         [  2.2  ,  45.   ],\n",
       "         [  1.833,  46.   ],\n",
       "         [  1.833,  46.   ],\n",
       "         [  1.817,  46.   ],\n",
       "         [  1.783,  46.   ],\n",
       "         [  2.15 ,  46.   ],\n",
       "         [  1.983,  43.   ],\n",
       "         [  2.283,  62.   ],\n",
       "         [  2.483,  62.   ],\n",
       "         [  1.75 ,  62.   ],\n",
       "         [  1.983,  62.   ],\n",
       "         [  1.833,  63.   ],\n",
       "         [  2.367,  63.   ],\n",
       "         [  2.9  ,  63.   ],\n",
       "         [  3.367,  66.   ],\n",
       "         [  3.5  ,  66.   ],\n",
       "         [  2.133,  67.   ],\n",
       "         [  3.833,  64.   ],\n",
       "         [  3.417,  64.   ],\n",
       "         [  1.667,  64.   ],\n",
       "         [  2.333,  64.   ],\n",
       "         [  2.067,  65.   ],\n",
       "         [  2.633,  65.   ],\n",
       "         [  2.4  ,  65.   ],\n",
       "         [  1.833,  59.   ],\n",
       "         [  1.817,  59.   ],\n",
       "         [  1.7  ,  59.   ],\n",
       "         [  2.   ,  59.   ],\n",
       "         [  1.983,  59.   ],\n",
       "         [  2.233,  59.   ],\n",
       "         [  2.3  ,  59.   ],\n",
       "         [  1.817,  60.   ],\n",
       "         [  2.017,  60.   ],\n",
       "         [  2.1  ,  60.   ],\n",
       "         [  2.2  ,  60.   ],\n",
       "         [  2.233,  60.   ],\n",
       "         [  2.25 ,  60.   ],\n",
       "         [  1.883,  58.   ],\n",
       "         [  1.85 ,  58.   ],\n",
       "         [  1.75 ,  58.   ],\n",
       "         [  2.   ,  58.   ],\n",
       "         [  2.083,  57.   ],\n",
       "         [  2.083,  57.   ],\n",
       "         [  1.833,  57.   ]]), 'label': 541}]"
      ]
     },
     "execution_count": 76,
     "metadata": {},
     "output_type": "execute_result"
    }
   ],
   "source": [
    "clusters"
   ]
  },
  {
   "cell_type": "code",
   "execution_count": 77,
   "metadata": {
    "collapsed": false
   },
   "outputs": [
    {
     "data": {
      "image/png": "[encoded data removed]",
      "text/plain": [
       "<matplotlib.figure.Figure at 0x7f9055312d30>"
      ]
     },
     "metadata": {},
     "output_type": "display_data"
    }
   ],
   "source": [
    "for i in range(len(clusters)):\n",
    "    cluster = clusters[i]['X']\n",
    "    plt.scatter(cluster[:,0], cluster[:,1])\n",
    "plt.xlabel('Duration');\n",
    "plt.ylabel('Interval');"
   ]
  },
  {
   "cell_type": "markdown",
   "metadata": {
    "collapsed": true
   },
   "source": [
    "How might we make this more efficient?\n",
    "\n",
    "Maybe if we compute the pairwise squared distance between data points once!  Then clusters are defined by indices into this distance matrix."
   ]
  },
  {
   "cell_type": "code",
   "execution_count": 79,
   "metadata": {
    "collapsed": false
   },
   "outputs": [
    {
     "data": {
      "text/plain": [
       "(272, 272)"
      ]
     },
     "execution_count": 79,
     "metadata": {},
     "output_type": "execute_result"
    }
   ],
   "source": [
    "dataDists = np.sum((data[:,np.newaxis,:] - data)**2, axis=2)\n",
    "dataDists.shape"
   ]
  },
  {
   "cell_type": "code",
   "execution_count": 80,
   "metadata": {
    "collapsed": true
   },
   "outputs": [],
   "source": [
    "def clusterDistance(Ci, Cj, dataDists):\n",
    "    '''Ci and Cj are two clusters, each being a dict with 'X' and 'label' keys'''\n",
    "    return np.mean( np.array([dataDists[i,j] for i in Ci['X'] for j in Cj['X']]) )\n",
    "    # return np.min(np.sum((Ci['X'][:,np.newaxis,:] - Cj['X'])**2, axis=2))\n",
    "    # return np.max(np.sum((Ci['X'][:,np.newaxis,:] - Cj['X'])**2, axis=2))"
   ]
  },
  {
   "cell_type": "code",
   "execution_count": 81,
   "metadata": {
    "collapsed": false
   },
   "outputs": [],
   "source": [
    "def agglomerative(X,clusterDistanceF, nClusters):\n",
    "    dataDists = np.sum((X[:,np.newaxis,:] - X)**2, axis=2)\n",
    "    labels = np.zeros((X.shape[0]))\n",
    "    # clusters is list of pairs of sample and label\n",
    "    clusters = [ {'X':[i], 'label':i} for i in range(X.shape[0]) ]\n",
    "    k = X.shape[0] - 1\n",
    "    while len(clusters) > nClusters:\n",
    "        dists = np.array( [[i,j,clusterDistance(clusters[i],clusters[j], dataDists)] for i in range(len(clusters)-1) for j in range(i+1,len(clusters))] )\n",
    "        whichClosest = np.argmin(dists[:,-1])\n",
    "        closest = dists[whichClosest,:2]\n",
    "        i,j = closest.astype(int)\n",
    "        # Merge them\n",
    "        k += 1\n",
    "        clusters[i] = {'X': clusters[i]['X'] + clusters[j]['X'],\n",
    "                       'label': k}\n",
    "        clusters.pop(j)\n",
    "        print(len(clusters), end=' ')\n",
    "    return clusters"
   ]
  },
  {
   "cell_type": "code",
   "execution_count": 82,
   "metadata": {
    "collapsed": false
   },
   "outputs": [
    {
     "name": "stdout",
     "output_type": "stream",
     "text": [
      "271 270 269 268 267 266 265 264 263 262 261 260 259 258 257 256 255 254 253 252 251 250 249 248 247 246 245 244 243 242 241 240 239 238 237 236 235 234 233 232 231 230 229 228 227 226 225 224 223 222 221 220 219 218 217 216 215 214 213 212 211 210 209 208 207 206 205 204 203 202 201 200 199 198 197 196 195 194 193 192 191 190 189 188 187 186 185 184 183 182 181 180 179 178 177 176 175 174 173 172 171 170 169 168 167 166 165 164 163 162 161 160 159 158 157 156 155 154 153 152 151 150 149 148 147 146 145 144 143 142 141 140 139 138 137 136 135 134 133 132 131 130 129 128 127 126 125 124 123 122 121 120 119 118 117 116 115 114 113 112 111 110 109 108 107 106 105 104 103 102 101 100 99 98 97 96 95 94 93 92 91 90 89 88 87 86 85 84 83 82 81 80 79 78 77 76 75 74 73 72 71 70 69 68 67 66 65 64 63 62 61 60 59 58 57 56 55 54 53 52 51 50 49 48 47 46 45 44 43 42 41 40 39 38 37 36 35 34 33 32 31 30 29 28 27 26 25 24 23 22 21 20 19 18 17 16 15 14 13 12 11 10 9 8 7 6 5 4 3 2 "
     ]
    }
   ],
   "source": [
    "clusters = agglomerative(data,clusterDistance, 2)"
   ]
  },
  {
   "cell_type": "code",
   "execution_count": 85,
   "metadata": {
    "collapsed": false
   },
   "outputs": [
    {
     "data": {
      "image/png": "[encoded data removed]",
      "text/plain": [
       "<matplotlib.figure.Figure at 0x7f90550cdeb8>"
      ]
     },
     "metadata": {},
     "output_type": "display_data"
    }
   ],
   "source": [
    "for i in range(len(clusters)):\n",
    "    cluster = clusters[i]['X']\n",
    "    coords = np.array([data[c] for c in cluster])\n",
    "    plt.scatter(coords[:,0], coords[:,1])\n",
    "plt.xlabel('Duration');\n",
    "plt.ylabel('Interval');"
   ]
  },
  {
   "cell_type": "code",
   "execution_count": null,
   "metadata": {
    "collapsed": true
   },
   "outputs": [],
   "source": []
  },
  {
   "cell_type": "markdown",
   "metadata": {},
   "source": [
    "What else could you do to speed this up?"
   ]
  },
  {
   "cell_type": "code",
   "execution_count": null,
   "metadata": {
    "collapsed": true
   },
   "outputs": [],
   "source": []
  },
  {
   "cell_type": "markdown",
   "metadata": {},
   "source": [
    "Let's try another data set, this time from [Finland](http://cs.joensuu.fi/sipu/datasets/)."
   ]
  },
  {
   "cell_type": "code",
   "execution_count": 67,
   "metadata": {
    "collapsed": false
   },
   "outputs": [],
   "source": [
    "data2 = np.loadtxt('userslocations.csv')"
   ]
  },
  {
   "cell_type": "code",
   "execution_count": 68,
   "metadata": {
    "collapsed": false
   },
   "outputs": [
    {
     "data": {
      "text/plain": [
       "(13467, 2)"
      ]
     },
     "execution_count": 68,
     "metadata": {},
     "output_type": "execute_result"
    }
   ],
   "source": [
    "data2.shape"
   ]
  },
  {
   "cell_type": "code",
   "execution_count": null,
   "metadata": {
    "collapsed": false
   },
   "outputs": [],
   "source": [
    "clusters =  agglomerative(data2,clusterDistance, 4)\n",
    "plt.figure(figsize=(20,8))\n",
    "for i in range(len(clusters)):\n",
    "    cluster = clusters[i]['X']\n",
    "    coords = np.array([data[c] for c in cluster])\n",
    "    plt.scatter(coords[:,0], coords[:,1])\n",
    "plt.xlabel('Interval (minutes)')\n",
    "plt.ylabel('Duration (minutes)')\n",
    "plt.subplot(1,3,2);"
   ]
  },
  {
   "cell_type": "code",
   "execution_count": null,
   "metadata": {
    "collapsed": true
   },
   "outputs": [],
   "source": []
  },
  {
   "cell_type": "code",
   "execution_count": null,
   "metadata": {
    "collapsed": true
   },
   "outputs": [],
   "source": []
  }
 ],
 "metadata": {
  "anaconda-cloud": {},
  "kernelspec": {
   "display_name": "Python [Root]",
   "language": "python",
   "name": "Python [Root]"
  },
  "language_info": {
   "codemirror_mode": {
    "name": "ipython",
    "version": 3
   },
   "file_extension": ".py",
   "mimetype": "text/x-python",
   "name": "python",
   "nbconvert_exporter": "python",
   "pygments_lexer": "ipython3",
   "version": "3.5.2"
  }
 },
 "nbformat": 4,
 "nbformat_minor": 0
}
