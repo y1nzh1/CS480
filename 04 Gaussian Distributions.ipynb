{
 "cells": [
  {
   "cell_type": "markdown",
   "metadata": {},
   "source": [
    "$\\newcommand{\\xv}{\\mathbf{x}}\n",
    "\\newcommand{\\Xv}{\\mathbf{X}}\n",
    "\\newcommand{\\piv}{\\mathbf{\\pi}}\n",
    "\\newcommand{\\yv}{\\mathbf{y}}\n",
    "\\newcommand{\\Yv}{\\mathbf{Y}}\n",
    "\\newcommand{\\zv}{\\mathbf{z}}\n",
    "\\newcommand{\\av}{\\mathbf{a}}\n",
    "\\newcommand{\\Wv}{\\mathbf{W}}\n",
    "\\newcommand{\\wv}{\\mathbf{w}}\n",
    "\\newcommand{\\gv}{\\mathbf{g}}\n",
    "\\newcommand{\\Hv}{\\mathbf{H}}\n",
    "\\newcommand{\\dv}{\\mathbf{d}}\n",
    "\\newcommand{\\Vv}{\\mathbf{V}}\n",
    "\\newcommand{\\vv}{\\mathbf{v}}\n",
    "\\newcommand{\\tv}{\\mathbf{t}}\n",
    "\\newcommand{\\Tv}{\\mathbf{T}}\n",
    "\\newcommand{\\Sv}{\\mathbf{S}}\n",
    "\\newcommand{\\zv}{\\mathbf{z}}\n",
    "\\newcommand{\\Zv}{\\mathbf{Z}}\n",
    "\\newcommand{\\Norm}{\\mathcal{N}}\n",
    "\\newcommand{\\muv}{\\boldsymbol{\\mu}}\n",
    "\\newcommand{\\sigmav}{\\boldsymbol{\\sigma}}\n",
    "\\newcommand{\\phiv}{\\boldsymbol{\\phi}}\n",
    "\\newcommand{\\Phiv}{\\boldsymbol{\\Phi}}\n",
    "\\newcommand{\\Sigmav}{\\boldsymbol{\\Sigma}}\n",
    "\\newcommand{\\Lambdav}{\\boldsymbol{\\Lambda}}\n",
    "\\newcommand{\\half}{\\frac{1}{2}}\n",
    "\\newcommand{\\argmax}[1]{\\underset{#1}{\\operatorname{argmax}}}\n",
    "\\newcommand{\\argmin}[1]{\\underset{#1}{\\operatorname{argmin}}}\n",
    "\\newcommand{\\dimensionbar}[1]{\\underset{#1}{\\operatorname{|}}}\n",
    "$"
   ]
  },
  {
   "cell_type": "markdown",
   "metadata": {},
   "source": [
    "# Gaussian or Normal Distributions"
   ]
  },
  {
   "cell_type": "markdown",
   "metadata": {},
   "source": [
    "## First, Why Gaussians?"
   ]
  },
  {
   "cell_type": "markdown",
   "metadata": {},
   "source": [
    "How would you like to model the probability distribution of a typical cluster of your data?\n",
    "If, and that's a big if, you believe\n",
    "the data samples from a particular class have attribute values that\n",
    "tend to be close to a particular value, that is, that the samples\n",
    "cluster about a central point in the sample space, then pick a\n",
    "probabilistic model that has a peak over that central point and falls\n",
    "towards zero as you move away from that point.\n",
    "\n",
    "How do we construct such a model?  Well, let's try for two\n",
    "characteristics:\n",
    "  - The model's value will decrease with the distance from the central point, and\n",
    "  - its value will always be greater than 0.\n",
    "If $\\xv$ is a sample and $\\muv$ is the central point, we can achieve this with\n",
    "$$\n",
    "p(\\xv) = \\frac{1}{||\\xv - \\muv||}\n",
    "$$\n",
    "where $||\\xv - \\muv||$ is the distance between $\\xv$ and $\\muv$.\n",
    "\n",
    "Let's try making a plot of this for $\\mu = 5.5$."
   ]
  },
  {
   "cell_type": "code",
   "execution_count": 1,
   "metadata": {
    "collapsed": false
   },
   "outputs": [],
   "source": [
    "import numpy as np\n",
    "import matplotlib.pyplot as plt\n",
    "%matplotlib inline"
   ]
  },
  {
   "cell_type": "code",
   "execution_count": 2,
   "metadata": {
    "collapsed": false
   },
   "outputs": [
    {
     "data": {
      "image/png": "[encoded data removed]",
      "text/plain": [
       "<matplotlib.figure.Figure at 0x10abc67f0>"
      ]
     },
     "metadata": {},
     "output_type": "display_data"
    }
   ],
   "source": [
    "xs = np.linspace(-5,10,1000)\n",
    "mu = 5.5\n",
    "plt.plot(xs, 1/np.sqrt((xs-mu)**2))\n",
    "plt.ylim(0,20)\n",
    "plt.plot([mu, mu], [0, 20], 'r--',lw=2)\n",
    "plt.xlabel('$x$')\n",
    "plt.ylabel('$p(x)$');"
   ]
  },
  {
   "cell_type": "markdown",
   "metadata": {},
   "source": [
    "The red dotted line is at $\\mu = 5.5$."
   ]
  },
  {
   "cell_type": "markdown",
   "metadata": {},
   "source": [
    "Humm...meets our criteria, but has problems---goes to infinity at the\n",
    "center and we cannot control the width of the central area where samples\n",
    "may appear.\n",
    "\n",
    "Can take care of first issue by using the distance as an exponent, so\n",
    "that when it is zero, the result is 1.  Let's try a base of 2.\n",
    "$$\n",
    "p(\\xv) = \\frac{1}{2^{||\\xv - \\muv||}}\n",
    "$$\n",
    "\n",
    "Now, let's see...how do we do a calculation with a scalar base and vector exponent?  For example, we want\n",
    "$$\n",
    "2^{[2,3,4]} = [2^2, 2^3, 2^4]\n",
    "$$"
   ]
  },
  {
   "cell_type": "code",
   "execution_count": 3,
   "metadata": {
    "collapsed": false
   },
   "outputs": [
    {
     "ename": "TypeError",
     "evalue": "unsupported operand type(s) for ** or pow(): 'int' and 'list'",
     "output_type": "error",
     "traceback": [
      "\u001b[0;31m---------------------------------------------------------------------------\u001b[0m",
      "\u001b[0;31mTypeError\u001b[0m                                 Traceback (most recent call last)",
      "\u001b[0;32m<ipython-input-3-d7a70ae31833>\u001b[0m in \u001b[0;36m<module>\u001b[0;34m()\u001b[0m\n\u001b[0;32m----> 1\u001b[0;31m \u001b[0;36m2\u001b[0m\u001b[0;34m**\u001b[0m\u001b[0;34m[\u001b[0m\u001b[0;36m2\u001b[0m\u001b[0;34m,\u001b[0m\u001b[0;36m3\u001b[0m\u001b[0;34m,\u001b[0m\u001b[0;36m4\u001b[0m\u001b[0;34m]\u001b[0m\u001b[0;34m\u001b[0m\u001b[0m\n\u001b[0m",
      "\u001b[0;31mTypeError\u001b[0m: unsupported operand type(s) for ** or pow(): 'int' and 'list'"
     ]
    }
   ],
   "source": [
    "2**[2,3,4]"
   ]
  },
  {
   "cell_type": "markdown",
   "metadata": {},
   "source": [
    "Nope.  Maybe we have to use a numpy array."
   ]
  },
  {
   "cell_type": "code",
   "execution_count": 4,
   "metadata": {
    "collapsed": false
   },
   "outputs": [
    {
     "data": {
      "text/plain": [
       "array([ 4,  8, 16])"
      ]
     },
     "execution_count": 4,
     "metadata": {},
     "output_type": "execute_result"
    }
   ],
   "source": [
    "2**np.array([2,3,4])"
   ]
  },
  {
   "cell_type": "markdown",
   "metadata": {},
   "source": [
    "Hey!  That's it."
   ]
  },
  {
   "cell_type": "code",
   "execution_count": 5,
   "metadata": {
    "collapsed": false
   },
   "outputs": [
    {
     "data": {
      "image/png": "[encoded data removed]",
      "text/plain": [
       "<matplotlib.figure.Figure at 0x10d96a160>"
      ]
     },
     "metadata": {},
     "output_type": "display_data"
    }
   ],
   "source": [
    "plt.plot(xs, 1/2**np.sqrt((xs-mu)**2))\n",
    "plt.plot([mu, mu], [0, 1], 'r--',lw=3)\n",
    "plt.xlabel('$x$')\n",
    "plt.ylabel('$p(x)$');"
   ]
  },
  {
   "cell_type": "markdown",
   "metadata": {},
   "source": [
    "Solves the infinity problem, but it still falls off too fast.  Want to\n",
    "change the distance to a function that changes more slowly at first,\n",
    "when you are close to the center.  How about the square function?  \n",
    "$$\n",
    "p(\\xv) = \\frac{1}{2^{||\\xv - \\muv||^2}}\n",
    "$$"
   ]
  },
  {
   "cell_type": "code",
   "execution_count": 6,
   "metadata": {
    "collapsed": false
   },
   "outputs": [
    {
     "data": {
      "image/png": "[encoded data removed]",
      "text/plain": [
       "<matplotlib.figure.Figure at 0x10d1ba400>"
      ]
     },
     "metadata": {},
     "output_type": "display_data"
    }
   ],
   "source": [
    "plt.plot(xs, 1/2**(xs-mu)**2)\n",
    "plt.plot([mu, mu], [0, 1], 'r--',lw=3)\n",
    "plt.xlabel('$x$')\n",
    "plt.ylabel('$p(x)$');"
   ]
  },
  {
   "cell_type": "markdown",
   "metadata": {},
   "source": [
    "Yeah. That's a nice shape.  Now we can vary the width by scaling the\n",
    "squared distance.\n",
    "$$\n",
    "p(\\xv) = \\frac{1}{2^{0.1\\,||\\xv - \\muv||^2}}\n",
    "$$"
   ]
  },
  {
   "cell_type": "code",
   "execution_count": 7,
   "metadata": {
    "collapsed": false
   },
   "outputs": [
    {
     "data": {
      "image/png": "[encoded data removed]",
      "text/plain": [
       "<matplotlib.figure.Figure at 0x10dfb7ac8>"
      ]
     },
     "metadata": {},
     "output_type": "display_data"
    }
   ],
   "source": [
    "plt.plot(xs, 1/2**(0.1 * (xs-mu)**2))\n",
    "plt.plot([mu, mu], [0, 1], 'r--',lw=3)\n",
    "plt.xlabel('$x$')\n",
    "plt.ylabel('$p(x)$');"
   ]
  },
  {
   "cell_type": "markdown",
   "metadata": {},
   "source": [
    "There. That's good enough.  We could be happy with this.  Just pick\n",
    "the center and scale factor that best matches the sample\n",
    "distributions.  But, let's make one more change that won't affect the\n",
    "shape of our model, but will simplify later calculations.  We will\n",
    "soon see that logarithms come into play when we try to fit our model\n",
    "to a bunch of samples.  What is the logarithm of $2^{0.1\\,|\\xv -\n",
    "\\muv|^2}$, or, more simply, the logarithm of $2^z$?  If we are talking\n",
    "base 10 logs, $\\log 2^z = z \\log 2$.  Since we are free to pick the\n",
    "base...hey, how about using $e$ and using natural logarithms?  Then\n",
    "$\\ln e^z = z \\ln e = z$.  So much simpler!  :-)\n",
    "\n",
    "So, our model is now\n",
    "$$\n",
    "p(\\xv) = \\frac{1}{e^{0.1\\,||\\xv - \\muv||^2}}\n",
    "$$\n",
    "which can also be written as\n",
    "$$\n",
    "p(\\xv) = e^{-0.1\\,||\\xv - \\muv||^2}\n",
    "$$"
   ]
  },
  {
   "cell_type": "code",
   "execution_count": 8,
   "metadata": {
    "collapsed": false
   },
   "outputs": [
    {
     "data": {
      "image/png": "[encoded data removed]",
      "text/plain": [
       "<matplotlib.figure.Figure at 0x10ecefb38>"
      ]
     },
     "metadata": {},
     "output_type": "display_data"
    }
   ],
   "source": [
    "plt.plot(xs, np.exp(-0.1 * (xs-mu)**2))\n",
    "plt.plot([mu, mu], [0, 1], 'r--',lw=3)\n",
    "plt.xlabel('$x$')\n",
    "plt.ylabel('$p(x)$');"
   ]
  },
  {
   "cell_type": "markdown",
   "metadata": {},
   "source": [
    "The scale factor 0.1 is a bit counterintuitive.  The smaller the\n",
    "value, the more spread out our model is.  So, let's divide by the\n",
    "scale factor rather than multiply by it, and let's call it $\\sigma$.\n",
    "Let's also put it inside the square function, so $\\sigma$ is directly\n",
    "scaling the distance, rather than the squared distance.  \n",
    "$$\n",
    "p(\\xv) = e^{-\\left (\\frac{||\\xv - \\muv||}{\\sigma}\\right )^2}\n",
    "$$\n",
    "or\n",
    "$$\n",
    "p(\\xv) = e^{-\\frac{||\\xv - \\muv||^2}{\\sigma^2}}\n",
    "$$\n",
    "\n",
    "Speaking of dividing, and this won't surprise you, since we will be\n",
    "taking derivatives of this function with respect to parameters like\n",
    "$\\mu$, let's multiply by $\\frac{1}{2}$ so that when we bring the\n",
    "exponent 2 down it will cancel with $\\frac{1}{2}$. \n",
    "$$\n",
    "p(\\xv) = e^{-\\frac{1}{2}\\frac{||\\xv - \\muv||^2}{\\sigma^2}}\n",
    "$$\n",
    "\n",
    "One remaining problem we have with our \"probabilistic\" model is that\n",
    "it is not a true probability distribution, which must\n",
    "  - have values between 0 and 1, $0 \\le p(x) \\le 1$, and\n",
    "  - have values that sum to 1 over the range of possible $x$ values, $\\int_{-\\infty}^{+\\infty} p(x) dx = 1$.\n",
    "\n",
    "We have satisfied the first requirement, but not the second.  We can fix\n",
    "this by calculating the value of the integral and dividing by that\n",
    "value, which is called the normalizing constant.  The value of the\n",
    "integral turns out to be $\\sqrt{2\\pi\\sigma^2}$. See [Evolution of the Normal Distribution](https://www.maa.org/sites/default/files/pdf/upload_library/22/Allendoerfer/stahl96.pdf)."
   ]
  },
  {
   "cell_type": "markdown",
   "metadata": {},
   "source": [
    "So, finally, we have the definition\n",
    "$$\n",
    "p(\\xv) = \\frac{1}{\\sqrt{2\\pi\\sigma^2}} e^{-\\frac{1}{2}\\frac{||\\xv - \\muv||^2}{\\sigma^2}}\n",
    "$$\n",
    "and, TA DA..., we have arrived at the Normal, or Gaussian, probability\n",
    "distribution (technically the density function) with mean $\\muv$ and\n",
    "standard deviation $\\sigma$, and thus variance $\\sigma^2$.  Check out\n",
    "[the Wikipedia entry](http://en.wikipedia.org/wiki/Normal_distribution|the Wikipedia entry).\n",
    "\n",
    "Now you know a bit about why the Normal distribution is so prevalent. \n",
    "For additional insight and history, read [Chapter 7: The Central\n",
    "Gaussian, or Normal, Distribution](http://omega.albany.edu:8008/ETJ-PS/cc7m.ps) of *Probability Theory:\n",
    "The Logic of Science* by E.T. Jaynes, 1993.  It starts with this\n",
    "quotation from Augustus de Morgan (yes, that de Morgan) from 1838:\n",
    "\n",
    "> \"My own impression...is that the mathematical results have outrun\n",
    "> their interpretation and that some simple explanation of the force and meaning of the \n",
    "> celebrated integral...will one day be found...which will at once render useless\n",
    "> all the works hitherto written.\"\n",
    "\n",
    "Before wrestling with python, we need to define the multivariate\n",
    "Normal distribution.  Let's go to two dimensions, to make sure we develop code to handle multidimensional data, not just scalars.  Now our hill we\n",
    "have been drawing will be a mound up above a two-dimensional base\n",
    "plane.  We will define $\\xv$ and $\\muv$\n",
    "to be two-dimensional column vectors. What will $\\sigma$ be?  Well, we\n",
    "need scale factors for the two dimensions to stretch or shrink the\n",
    "mound in the directions of the two base-plane axes.  We also need\n",
    "another scale factor to allow the mound to be stretched in directions\n",
    "not parallel to an axis.\n",
    "\n",
    "Remember, the Normal distribution is all about squared distance from\n",
    "the mean.  In two dimensions, the difference vector is $\\dv = \\xv -\n",
    "\\muv = (d_1,d_2)$.  The squared distance is therefore $||\\dv||^2 =\n",
    "d_1^2 + 2 d_1 d_2 + d_2^2$.  Now we see where the three scale factors\n",
    "go: $s_1 d_1^2 + 2 s_2 d_1 d_2 + s_3 d_2^2$.  This can be written in\n",
    "matrix form if we collect the scale factors in the matrix\n",
    "$$\n",
    "\\Sigmav = \\begin{bmatrix}\n",
    "s_1 & s_2\\\\\n",
    "s_2 & s_3\n",
    "\\end{bmatrix}\n",
    "$$\n",
    "so that \n",
    "$$\n",
    "s_1 d_1^2 + 2 s_2 d_1 d_2 + s_3 d_2^2 = \n",
    "\\dv^T \\Sigmav \\dv\n",
    "$$\n",
    "because\n",
    "$$\n",
    "\\begin{align*}\n",
    "\\dv^T \\Sigmav \\dv\n",
    "& =\n",
    "\\begin{bmatrix}\n",
    "d_1 & d_2\n",
    "\\end{bmatrix}\n",
    "\\begin{bmatrix}\n",
    "s_1 & s_2\\\\\n",
    "s_2 & s_3\n",
    "\\end{bmatrix}\n",
    "\\begin{bmatrix}\n",
    "d_1\\\\\n",
    "d_2\n",
    "\\end{bmatrix}\\\\\n",
    "& =\n",
    "\\begin{bmatrix}\n",
    "d_1 s_1 + d_2 s_2 & d_1 s_2 + d_2 s_3\n",
    "\\end{bmatrix}\n",
    "\\begin{bmatrix}\n",
    "d_1\\\\\n",
    "d_2\n",
    "\\end{bmatrix}\\\\\n",
    "&=\n",
    "(d_1 s_1 + d_2 s_2) d_1 + (d_1 s_2 + d_2 s_3) d_2 \\\\\n",
    "&=\n",
    "s_1 d_1^2 + 2 s_2 d_1 d_2 + s_3 d_2^2 \n",
    "\\end{align*}\n",
    "$$\n",
    "\n",
    "Again, it is more intuitive to use scale factors that divide the\n",
    "distance components rather than multiply them.  In the\n",
    "multidimensional world, this means that instead of multiplying by\n",
    "$\\Sigmav$ we will multiply by $\\Sigmav^{-1}$.  \n",
    "\n",
    "The normalizing constant is a bit more complicated.  It involves the\n",
    "determinant of $\\Sigmav$, which is the sum of its eigenvalues and can\n",
    "be thought of as a generalized scale factor.  Skim through\n",
    "[the Wikipedia entry on determinants](http://en.wikipedia.org/wiki/Determinant).  The multivariate $D$-dimensional Normal distribution is\n",
    "$$\n",
    "p(\\xv) = \\frac{1}{(2\\pi)^{d/2} |\\Sigmav |^{1/2}}\n",
    "      e^{-\\frac{1}{2} (\\xv-\\muv)^T \\Sigmav^{-1} (\\xv - \\muv)}\n",
    "$$\n",
    "where mean $\\muv$ is a $D$-dimensional column vector and covariance\n",
    "matrix $\\Sigmav$ is a $D\\times D$ symmetric matrix."
   ]
  },
  {
   "cell_type": "markdown",
   "metadata": {},
   "source": [
    "The Normal distribution is also called the Gaussian distribution.  (When did Gauss live?)\n",
    "\n",
    "In addition to the above reasons for concocting this distribution, it has a number of interesting analytical properties.  One is the [Central Limit Theorem](http://en.wikipedia.org/wiki/Central_limit_theorem), which states that the sum of many choices of $N$ random variables tends to a Normal distribution as $N \\rightarrow \\infty$.\n",
    "\n",
    "Let's play with this theorem with some fancy shmansy python using the new [ipython notebook *interact* feature](http://nbviewer.ipython.org/github/ipython/ipython-in-depth/blob/master/examples/Interactive%20Widgets/Using%20Interact.ipynb) to explore the distribution of sums as the number of samples varies.   "
   ]
  },
  {
   "cell_type": "code",
   "execution_count": 9,
   "metadata": {
    "collapsed": false
   },
   "outputs": [
    {
     "data": {
      "image/png": "[encoded data removed]",
      "text/plain": [
       "<matplotlib.figure.Figure at 0x109f33f28>"
      ]
     },
     "metadata": {},
     "output_type": "display_data"
    }
   ],
   "source": [
    "from ipywidgets import interact\n",
    "maxSamples = 100\n",
    "nSets = 10000\n",
    "values = np.random.uniform(0,1,(maxSamples,nSets))\n",
    "\n",
    "@interact(nSamples=(1,maxSamples))\n",
    "def sumOfN(nSamples=1):\n",
    "    sums = np.sum(values[:nSamples,:],axis=0)\n",
    "    plt.hist(sums, 20, facecolor='green')"
   ]
  },
  {
   "cell_type": "markdown",
   "metadata": {},
   "source": [
    "Now how would you check our definition of $p(x)$  in python?  First, we need a function to calculate $p(x)$ given $\\mu$ and $\\Sigma$, or $p(x|\\mu, \\Sigma)$."
   ]
  },
  {
   "cell_type": "code",
   "execution_count": null,
   "metadata": {
    "collapsed": false
   },
   "outputs": [],
   "source": [
    "def normald(X, mu, sigma):\n",
    "    \"\"\" normald:\n",
    "       X contains samples, one per row, N x D. \n",
    "       mu is mean vector, D x 1.\n",
    "       sigma is covariance matrix, D x D.  \"\"\"\n",
    "    D = X.shape[1]\n",
    "    detSigma = sigma if D == 1 else np.linalg.det(sigma)\n",
    "    if detSigma == 0:\n",
    "        raise np.linalg.LinAlgError('normald(): Singular covariance matrix')\n",
    "    sigmaI = 1.0/sigma if D == 1 else np.linalg.inv(sigma)\n",
    "    normConstant = 1.0 / np.sqrt((2*np.pi)**D * detSigma)\n",
    "    diffv = X - mu.T # change column vector mu to be row vector\n",
    "    return normConstant * np.exp(-0.5 * np.sum(np.dot(diffv, sigmaI) * diffv, axis=1))[:,np.newaxis]"
   ]
  },
  {
   "cell_type": "code",
   "execution_count": null,
   "metadata": {
    "collapsed": false
   },
   "outputs": [],
   "source": [
    "normald?"
   ]
  },
  {
   "cell_type": "markdown",
   "metadata": {},
   "source": [
    "Let's check the shapes of matrices in that last calculation.\n",
    "\n",
    "    diffv = X   -  mu.T\n",
    "        |  NxD    Dx1 |\n",
    "        |             |\n",
    "        |            1xD\n",
    "        |\n",
    "       NxD\n",
    "\n",
    "    normConstant * np.exp(-0.5 * np.sum(np.dot(diffv, sigmaI) * diffv, axis=1))[:,newaxis]\n",
    "       1x1                                      NxD    DxD  |    NxD |       |           |\n",
    "                                                            |        |       |           |\n",
    "                                                           NxD      NxD      |           |\n",
    "                                                                             |           |\n",
    "                                                                             N           |\n",
    "                                                                                        Nx1\n",
    "\n",
    "So we get $N$ answers, one for each sample.\n"
   ]
  },
  {
   "cell_type": "code",
   "execution_count": null,
   "metadata": {
    "collapsed": false
   },
   "outputs": [],
   "source": [
    "np.array([[1,2,3]]).shape"
   ]
  },
  {
   "cell_type": "code",
   "execution_count": null,
   "metadata": {
    "collapsed": false
   },
   "outputs": [],
   "source": [
    "X = np.array([[1,2],[3,5],[2.1,1.9]])\n",
    "mu = np.array([[2],[2]])\n",
    "Sigma = np.array([[1,0],[0,1]])\n",
    "print(X)\n",
    "print(mu)\n",
    "print(Sigma)\n",
    "normald(X, mu, Sigma)"
   ]
  },
  {
   "cell_type": "code",
   "execution_count": null,
   "metadata": {
    "collapsed": true
   },
   "outputs": [],
   "source": []
  },
  {
   "cell_type": "code",
   "execution_count": null,
   "metadata": {
    "collapsed": true
   },
   "outputs": [],
   "source": []
  }
 ],
 "metadata": {
  "anaconda-cloud": {},
  "kernelspec": {
   "display_name": "Python [default]",
   "language": "python",
   "name": "python3"
  },
  "language_info": {
   "codemirror_mode": {
    "name": "ipython",
    "version": 3
   },
   "file_extension": ".py",
   "mimetype": "text/x-python",
   "name": "python",
   "nbconvert_exporter": "python",
   "pygments_lexer": "ipython3",
   "version": "3.5.2"
  },
  "widgets": {
   "state": {
    "eaa762e0121345d0951267da5f0588b4": {
     "views": [
      {
       "cell_index": 22
      }
     ]
    }
   },
   "version": "1.2.0"
  }
 },
 "nbformat": 4,
 "nbformat_minor": 0
}
