{
 "cells": [
  {
   "cell_type": "markdown",
   "metadata": {},
   "source": [
    "# K-Means Clustering"
   ]
  },
  {
   "cell_type": "markdown",
   "metadata": {},
   "source": [
    "The [UCI Machine Learning Repository](http://archive.ics.uci.edu/ml/) is a \"go-to\" place for fascinating data sets often used in machine learning education and research.  \n",
    "\n",
    "Let's check out the Stone Flakes data set.  Find and download the [StoneFlakes.dat](http://archive.ics.uci.edu/ml/machine-learning-databases/00299/StoneFlakes.dat) file by clicking here or by running *wget* like below."
   ]
  },
  {
   "cell_type": "code",
   "execution_count": 1,
   "metadata": {
    "collapsed": false
   },
   "outputs": [
    {
     "name": "stdout",
     "output_type": "stream",
     "text": [
      "--2017-04-17 07:45:02--  http://archive.ics.uci.edu/ml/machine-learning-databases/00299/StoneFlakes.dat\n",
      "Resolving archive.ics.uci.edu (archive.ics.uci.edu)... 128.195.10.249\n",
      "Connecting to archive.ics.uci.edu (archive.ics.uci.edu)|128.195.10.249|:80... connected.\n",
      "HTTP request sent, awaiting response... 200 OK\n",
      "Length: 3523 (3.4K) [text/plain]\n",
      "Saving to: ‘StoneFlakes.dat’\n",
      "\n",
      "StoneFlakes.dat     100%[===================>]   3.44K  --.-KB/s    in 0s      \n",
      "\n",
      "2017-04-17 07:45:02 (140 MB/s) - ‘StoneFlakes.dat’ saved [3523/3523]\n",
      "\n"
     ]
    }
   ],
   "source": [
    "!wget http://archive.ics.uci.edu/ml/machine-learning-databases/00299/StoneFlakes.dat"
   ]
  },
  {
   "cell_type": "markdown",
   "metadata": {},
   "source": [
    "Let's look at the first few lines."
   ]
  },
  {
   "cell_type": "code",
   "execution_count": 2,
   "metadata": {
    "collapsed": false
   },
   "outputs": [
    {
     "name": "stdout",
     "output_type": "stream",
     "text": [
      "ID    LBI   RTI  WDI FLA  PSF  FSF ZDF1 PROZD\r",
      "\r\n",
      "ar      ?,35.30,2.60,  ?,42.4,24.2,47.1,69\r",
      "\r\n",
      "arn  1.23,27.00,3.59,122, 0.0,40.0,40.0,30\r",
      "\r\n",
      "be   1.24,26.50,2.90,121,16.0,20.7,29.7,72\r",
      "\r\n",
      "bi1  1.07,29.10,3.10,114,44.0, 2.6,26.3,68\r",
      "\r\n",
      "bi2  1.08,43.70,2.40,105,32.6, 5.8,10.7,42\r",
      "\r\n",
      "bie  1.39,29.50,2.78,126,14.0, 0.0,50.0,78\r",
      "\r\n",
      "bn   1.31,26.30,2.10,119,15.7,15.7,30.4,72\r",
      "\r\n",
      "bo   1.27,27.60,3.50,116,16.8,23.0,35.2,69\r",
      "\r\n",
      "by   1.11,32.60,2.90,113,15.8,15.8,15.0,57\r",
      "\r\n"
     ]
    }
   ],
   "source": [
    "!head StoneFlakes.dat"
   ]
  },
  {
   "cell_type": "markdown",
   "metadata": {},
   "source": [
    "Read about the column names and the meaning of the ID values at the data set's web site.  \n",
    "\n",
    "Notice that values are separated by commas, except for the first column.  Also notice that there are question marks where data is missing.  How can we read this?  Well, the usual answer is to \"google\" for the answer.  Try seaching for \"read data set numpy\"\n",
    "\n",
    "numpy includes functions for reading csv files.  However, the [pandas package](http://pandas.pydata.org/) offers more powerful functions for parsing data.  Let's try its *read_csv* function."
   ]
  },
  {
   "cell_type": "code",
   "execution_count": 3,
   "metadata": {
    "collapsed": true
   },
   "outputs": [],
   "source": [
    "import pandas"
   ]
  },
  {
   "cell_type": "code",
   "execution_count": 4,
   "metadata": {
    "collapsed": true
   },
   "outputs": [],
   "source": [
    "d = pandas.read_csv(open('StoneFlakes.dat'))"
   ]
  },
  {
   "cell_type": "code",
   "execution_count": 5,
   "metadata": {
    "collapsed": false
   },
   "outputs": [
    {
     "data": {
      "text/html": [
       "<div>\n",
       "<table border=\"1\" class=\"dataframe\">\n",
       "  <thead>\n",
       "    <tr style=\"text-align: right;\">\n",
       "      <th></th>\n",
       "      <th></th>\n",
       "      <th></th>\n",
       "      <th></th>\n",
       "      <th></th>\n",
       "      <th></th>\n",
       "      <th></th>\n",
       "      <th>ID    LBI   RTI  WDI FLA  PSF  FSF ZDF1 PROZD</th>\n",
       "    </tr>\n",
       "  </thead>\n",
       "  <tbody>\n",
       "    <tr>\n",
       "      <th>ar      ?</th>\n",
       "      <th>35.3</th>\n",
       "      <th>2.60</th>\n",
       "      <th>?</th>\n",
       "      <th>42.4</th>\n",
       "      <th>24.2</th>\n",
       "      <th>47.1</th>\n",
       "      <td>69</td>\n",
       "    </tr>\n",
       "    <tr>\n",
       "      <th>arn  1.23</th>\n",
       "      <th>27.0</th>\n",
       "      <th>3.59</th>\n",
       "      <th>122</th>\n",
       "      <th>0.0</th>\n",
       "      <th>40.0</th>\n",
       "      <th>40.0</th>\n",
       "      <td>30</td>\n",
       "    </tr>\n",
       "    <tr>\n",
       "      <th>be   1.24</th>\n",
       "      <th>26.5</th>\n",
       "      <th>2.90</th>\n",
       "      <th>121</th>\n",
       "      <th>16.0</th>\n",
       "      <th>20.7</th>\n",
       "      <th>29.7</th>\n",
       "      <td>72</td>\n",
       "    </tr>\n",
       "    <tr>\n",
       "      <th>bi1  1.07</th>\n",
       "      <th>29.1</th>\n",
       "      <th>3.10</th>\n",
       "      <th>114</th>\n",
       "      <th>44.0</th>\n",
       "      <th>2.6</th>\n",
       "      <th>26.3</th>\n",
       "      <td>68</td>\n",
       "    </tr>\n",
       "    <tr>\n",
       "      <th>bi2  1.08</th>\n",
       "      <th>43.7</th>\n",
       "      <th>2.40</th>\n",
       "      <th>105</th>\n",
       "      <th>32.6</th>\n",
       "      <th>5.8</th>\n",
       "      <th>10.7</th>\n",
       "      <td>42</td>\n",
       "    </tr>\n",
       "  </tbody>\n",
       "</table>\n",
       "</div>"
      ],
      "text/plain": [
       "                                        ID    LBI   RTI  WDI FLA  PSF  FSF ZDF1 PROZD\n",
       "ar      ? 35.3 2.60   ? 42.4 24.2 47.1                                             69\n",
       "arn  1.23 27.0 3.59 122  0.0 40.0 40.0                                             30\n",
       "be   1.24 26.5 2.90 121 16.0 20.7 29.7                                             72\n",
       "bi1  1.07 29.1 3.10 114 44.0  2.6 26.3                                             68\n",
       "bi2  1.08 43.7 2.40 105 32.6  5.8 10.7                                             42"
      ]
     },
     "execution_count": 5,
     "metadata": {},
     "output_type": "execute_result"
    }
   ],
   "source": [
    "d[:5]"
   ]
  },
  {
   "cell_type": "code",
   "execution_count": 6,
   "metadata": {
    "collapsed": false
   },
   "outputs": [
    {
     "data": {
      "text/html": [
       "<div>\n",
       "<table border=\"1\" class=\"dataframe\">\n",
       "  <thead>\n",
       "    <tr style=\"text-align: right;\">\n",
       "      <th></th>\n",
       "      <th></th>\n",
       "      <th></th>\n",
       "      <th></th>\n",
       "      <th></th>\n",
       "      <th></th>\n",
       "      <th></th>\n",
       "      <th>ID    LBI   RTI  WDI FLA  PSF  FSF ZDF1 PROZD</th>\n",
       "    </tr>\n",
       "  </thead>\n",
       "  <tbody>\n",
       "    <tr>\n",
       "      <th>ar      ?</th>\n",
       "      <th>35.3</th>\n",
       "      <th>2.60</th>\n",
       "      <th>?</th>\n",
       "      <th>42.4</th>\n",
       "      <th>24.2</th>\n",
       "      <th>47.1</th>\n",
       "      <td>69</td>\n",
       "    </tr>\n",
       "    <tr>\n",
       "      <th>arn  1.23</th>\n",
       "      <th>27.0</th>\n",
       "      <th>3.59</th>\n",
       "      <th>122</th>\n",
       "      <th>0.0</th>\n",
       "      <th>40.0</th>\n",
       "      <th>40.0</th>\n",
       "      <td>30</td>\n",
       "    </tr>\n",
       "    <tr>\n",
       "      <th>be   1.24</th>\n",
       "      <th>26.5</th>\n",
       "      <th>2.90</th>\n",
       "      <th>121</th>\n",
       "      <th>16.0</th>\n",
       "      <th>20.7</th>\n",
       "      <th>29.7</th>\n",
       "      <td>72</td>\n",
       "    </tr>\n",
       "    <tr>\n",
       "      <th>bi1  1.07</th>\n",
       "      <th>29.1</th>\n",
       "      <th>3.10</th>\n",
       "      <th>114</th>\n",
       "      <th>44.0</th>\n",
       "      <th>2.6</th>\n",
       "      <th>26.3</th>\n",
       "      <td>68</td>\n",
       "    </tr>\n",
       "    <tr>\n",
       "      <th>bi2  1.08</th>\n",
       "      <th>43.7</th>\n",
       "      <th>2.40</th>\n",
       "      <th>105</th>\n",
       "      <th>32.6</th>\n",
       "      <th>5.8</th>\n",
       "      <th>10.7</th>\n",
       "      <td>42</td>\n",
       "    </tr>\n",
       "  </tbody>\n",
       "</table>\n",
       "</div>"
      ],
      "text/plain": [
       "                                        ID    LBI   RTI  WDI FLA  PSF  FSF ZDF1 PROZD\n",
       "ar      ? 35.3 2.60   ? 42.4 24.2 47.1                                             69\n",
       "arn  1.23 27.0 3.59 122  0.0 40.0 40.0                                             30\n",
       "be   1.24 26.5 2.90 121 16.0 20.7 29.7                                             72\n",
       "bi1  1.07 29.1 3.10 114 44.0  2.6 26.3                                             68\n",
       "bi2  1.08 43.7 2.40 105 32.6  5.8 10.7                                             42"
      ]
     },
     "execution_count": 6,
     "metadata": {},
     "output_type": "execute_result"
    }
   ],
   "source": [
    "d = pandas.read_csv(open('StoneFlakes.dat'),sep=',')\n",
    "d[:5]"
   ]
  },
  {
   "cell_type": "markdown",
   "metadata": {},
   "source": [
    "Let's just replace commas with spaces, using unix.  Read about the *tr* unix command at [Linux TR Command Examples](http://www.thegeekstuff.com/2012/12/linux-tr-command/)"
   ]
  },
  {
   "cell_type": "code",
   "execution_count": 7,
   "metadata": {
    "collapsed": false
   },
   "outputs": [
    {
     "name": "stdout",
     "output_type": "stream",
     "text": [
      "ID,LBI,RTI,WDI,FLA,PSF,FSF,ZDF1,PROZD\r",
      "\r\n",
      "ar,?,35.30,2.60,?,42.4,24.2,47.1,69\r",
      "\r\n",
      "arn,1.23,27.00,3.59,122,0.0,40.0,40.0,30\r",
      "\r\n",
      "be,1.24,26.50,2.90,121,16.0,20.7,29.7,72\r",
      "\r\n",
      "bi1,1.07,29.10,3.10,114,44.0,2.6,26.3,68\r",
      "\r\n",
      "bi2,1.08,43.70,2.40,105,32.6,5.8,10.7,42\r",
      "\r\n",
      "bie,1.39,29.50,2.78,126,14.0,0.0,50.0,78\r",
      "\r\n",
      "bn,1.31,26.30,2.10,119,15.7,15.7,30.4,72\r",
      "\r\n",
      "bo,1.27,27.60,3.50,116,16.8,23.0,35.2,69\r",
      "\r\n",
      "by,1.11,32.60,2.90,113,15.8,15.8,15.0,57\r",
      "\r\n"
     ]
    }
   ],
   "source": [
    "! tr -s ' ' ',' < StoneFlakes.dat > StoneFlakes2.dat\n",
    "! head StoneFlakes2.dat"
   ]
  },
  {
   "cell_type": "code",
   "execution_count": 8,
   "metadata": {
    "collapsed": false
   },
   "outputs": [
    {
     "data": {
      "text/html": [
       "<div>\n",
       "<table border=\"1\" class=\"dataframe\">\n",
       "  <thead>\n",
       "    <tr style=\"text-align: right;\">\n",
       "      <th></th>\n",
       "      <th>ID</th>\n",
       "      <th>LBI</th>\n",
       "      <th>RTI</th>\n",
       "      <th>WDI</th>\n",
       "      <th>FLA</th>\n",
       "      <th>PSF</th>\n",
       "      <th>FSF</th>\n",
       "      <th>ZDF1</th>\n",
       "      <th>PROZD</th>\n",
       "    </tr>\n",
       "  </thead>\n",
       "  <tbody>\n",
       "    <tr>\n",
       "      <th>0</th>\n",
       "      <td>ar</td>\n",
       "      <td>?</td>\n",
       "      <td>35.3</td>\n",
       "      <td>2.60</td>\n",
       "      <td>?</td>\n",
       "      <td>42.4</td>\n",
       "      <td>24.2</td>\n",
       "      <td>47.1</td>\n",
       "      <td>69</td>\n",
       "    </tr>\n",
       "    <tr>\n",
       "      <th>1</th>\n",
       "      <td>arn</td>\n",
       "      <td>1.23</td>\n",
       "      <td>27.0</td>\n",
       "      <td>3.59</td>\n",
       "      <td>122</td>\n",
       "      <td>0.0</td>\n",
       "      <td>40.0</td>\n",
       "      <td>40.0</td>\n",
       "      <td>30</td>\n",
       "    </tr>\n",
       "    <tr>\n",
       "      <th>2</th>\n",
       "      <td>be</td>\n",
       "      <td>1.24</td>\n",
       "      <td>26.5</td>\n",
       "      <td>2.90</td>\n",
       "      <td>121</td>\n",
       "      <td>16.0</td>\n",
       "      <td>20.7</td>\n",
       "      <td>29.7</td>\n",
       "      <td>72</td>\n",
       "    </tr>\n",
       "    <tr>\n",
       "      <th>3</th>\n",
       "      <td>bi1</td>\n",
       "      <td>1.07</td>\n",
       "      <td>29.1</td>\n",
       "      <td>3.10</td>\n",
       "      <td>114</td>\n",
       "      <td>44.0</td>\n",
       "      <td>2.6</td>\n",
       "      <td>26.3</td>\n",
       "      <td>68</td>\n",
       "    </tr>\n",
       "    <tr>\n",
       "      <th>4</th>\n",
       "      <td>bi2</td>\n",
       "      <td>1.08</td>\n",
       "      <td>43.7</td>\n",
       "      <td>2.40</td>\n",
       "      <td>105</td>\n",
       "      <td>32.6</td>\n",
       "      <td>5.8</td>\n",
       "      <td>10.7</td>\n",
       "      <td>42</td>\n",
       "    </tr>\n",
       "  </tbody>\n",
       "</table>\n",
       "</div>"
      ],
      "text/plain": [
       "    ID   LBI   RTI   WDI  FLA   PSF   FSF  ZDF1  PROZD\n",
       "0   ar     ?  35.3  2.60    ?  42.4  24.2  47.1     69\n",
       "1  arn  1.23  27.0  3.59  122   0.0  40.0  40.0     30\n",
       "2   be  1.24  26.5  2.90  121  16.0  20.7  29.7     72\n",
       "3  bi1  1.07  29.1  3.10  114  44.0   2.6  26.3     68\n",
       "4  bi2  1.08  43.7  2.40  105  32.6   5.8  10.7     42"
      ]
     },
     "execution_count": 8,
     "metadata": {},
     "output_type": "execute_result"
    }
   ],
   "source": [
    "d = pandas.read_csv(open('StoneFlakes2.dat'))\n",
    "d[:5]"
   ]
  },
  {
   "cell_type": "code",
   "execution_count": 9,
   "metadata": {
    "collapsed": false
   },
   "outputs": [
    {
     "data": {
      "text/html": [
       "<div>\n",
       "<table border=\"1\" class=\"dataframe\">\n",
       "  <thead>\n",
       "    <tr style=\"text-align: right;\">\n",
       "      <th></th>\n",
       "      <th>ID</th>\n",
       "      <th>LBI</th>\n",
       "      <th>RTI</th>\n",
       "      <th>WDI</th>\n",
       "      <th>FLA</th>\n",
       "      <th>PSF</th>\n",
       "      <th>FSF</th>\n",
       "      <th>ZDF1</th>\n",
       "      <th>PROZD</th>\n",
       "    </tr>\n",
       "  </thead>\n",
       "  <tbody>\n",
       "    <tr>\n",
       "      <th>0</th>\n",
       "      <td>ar</td>\n",
       "      <td>NaN</td>\n",
       "      <td>35.3</td>\n",
       "      <td>2.60</td>\n",
       "      <td>NaN</td>\n",
       "      <td>42.4</td>\n",
       "      <td>24.2</td>\n",
       "      <td>47.1</td>\n",
       "      <td>69</td>\n",
       "    </tr>\n",
       "    <tr>\n",
       "      <th>1</th>\n",
       "      <td>arn</td>\n",
       "      <td>1.23</td>\n",
       "      <td>27.0</td>\n",
       "      <td>3.59</td>\n",
       "      <td>122.0</td>\n",
       "      <td>0.0</td>\n",
       "      <td>40.0</td>\n",
       "      <td>40.0</td>\n",
       "      <td>30</td>\n",
       "    </tr>\n",
       "    <tr>\n",
       "      <th>2</th>\n",
       "      <td>be</td>\n",
       "      <td>1.24</td>\n",
       "      <td>26.5</td>\n",
       "      <td>2.90</td>\n",
       "      <td>121.0</td>\n",
       "      <td>16.0</td>\n",
       "      <td>20.7</td>\n",
       "      <td>29.7</td>\n",
       "      <td>72</td>\n",
       "    </tr>\n",
       "    <tr>\n",
       "      <th>3</th>\n",
       "      <td>bi1</td>\n",
       "      <td>1.07</td>\n",
       "      <td>29.1</td>\n",
       "      <td>3.10</td>\n",
       "      <td>114.0</td>\n",
       "      <td>44.0</td>\n",
       "      <td>2.6</td>\n",
       "      <td>26.3</td>\n",
       "      <td>68</td>\n",
       "    </tr>\n",
       "    <tr>\n",
       "      <th>4</th>\n",
       "      <td>bi2</td>\n",
       "      <td>1.08</td>\n",
       "      <td>43.7</td>\n",
       "      <td>2.40</td>\n",
       "      <td>105.0</td>\n",
       "      <td>32.6</td>\n",
       "      <td>5.8</td>\n",
       "      <td>10.7</td>\n",
       "      <td>42</td>\n",
       "    </tr>\n",
       "  </tbody>\n",
       "</table>\n",
       "</div>"
      ],
      "text/plain": [
       "    ID   LBI   RTI   WDI    FLA   PSF   FSF  ZDF1  PROZD\n",
       "0   ar   NaN  35.3  2.60    NaN  42.4  24.2  47.1     69\n",
       "1  arn  1.23  27.0  3.59  122.0   0.0  40.0  40.0     30\n",
       "2   be  1.24  26.5  2.90  121.0  16.0  20.7  29.7     72\n",
       "3  bi1  1.07  29.1  3.10  114.0  44.0   2.6  26.3     68\n",
       "4  bi2  1.08  43.7  2.40  105.0  32.6   5.8  10.7     42"
      ]
     },
     "execution_count": 9,
     "metadata": {},
     "output_type": "execute_result"
    }
   ],
   "source": [
    "d = pandas.read_csv(open('StoneFlakes2.dat'),na_values='?')\n",
    "d[:5]"
   ]
  },
  {
   "cell_type": "code",
   "execution_count": 10,
   "metadata": {
    "collapsed": false
   },
   "outputs": [
    {
     "data": {
      "text/html": [
       "<div>\n",
       "<table border=\"1\" class=\"dataframe\">\n",
       "  <thead>\n",
       "    <tr style=\"text-align: right;\">\n",
       "      <th></th>\n",
       "      <th>ID</th>\n",
       "      <th>LBI</th>\n",
       "      <th>RTI</th>\n",
       "      <th>WDI</th>\n",
       "      <th>FLA</th>\n",
       "      <th>PSF</th>\n",
       "      <th>FSF</th>\n",
       "      <th>ZDF1</th>\n",
       "      <th>PROZD</th>\n",
       "    </tr>\n",
       "  </thead>\n",
       "  <tbody>\n",
       "    <tr>\n",
       "      <th>0</th>\n",
       "      <td>ar</td>\n",
       "      <td>NaN</td>\n",
       "      <td>35.3</td>\n",
       "      <td>2.60</td>\n",
       "      <td>NaN</td>\n",
       "      <td>42.4</td>\n",
       "      <td>24.2</td>\n",
       "      <td>47.1</td>\n",
       "      <td>69</td>\n",
       "    </tr>\n",
       "    <tr>\n",
       "      <th>1</th>\n",
       "      <td>arn</td>\n",
       "      <td>1.23</td>\n",
       "      <td>27.0</td>\n",
       "      <td>3.59</td>\n",
       "      <td>122.0</td>\n",
       "      <td>0.0</td>\n",
       "      <td>40.0</td>\n",
       "      <td>40.0</td>\n",
       "      <td>30</td>\n",
       "    </tr>\n",
       "    <tr>\n",
       "      <th>2</th>\n",
       "      <td>be</td>\n",
       "      <td>1.24</td>\n",
       "      <td>26.5</td>\n",
       "      <td>2.90</td>\n",
       "      <td>121.0</td>\n",
       "      <td>16.0</td>\n",
       "      <td>20.7</td>\n",
       "      <td>29.7</td>\n",
       "      <td>72</td>\n",
       "    </tr>\n",
       "    <tr>\n",
       "      <th>3</th>\n",
       "      <td>bi1</td>\n",
       "      <td>1.07</td>\n",
       "      <td>29.1</td>\n",
       "      <td>3.10</td>\n",
       "      <td>114.0</td>\n",
       "      <td>44.0</td>\n",
       "      <td>2.6</td>\n",
       "      <td>26.3</td>\n",
       "      <td>68</td>\n",
       "    </tr>\n",
       "    <tr>\n",
       "      <th>4</th>\n",
       "      <td>bi2</td>\n",
       "      <td>1.08</td>\n",
       "      <td>43.7</td>\n",
       "      <td>2.40</td>\n",
       "      <td>105.0</td>\n",
       "      <td>32.6</td>\n",
       "      <td>5.8</td>\n",
       "      <td>10.7</td>\n",
       "      <td>42</td>\n",
       "    </tr>\n",
       "  </tbody>\n",
       "</table>\n",
       "</div>"
      ],
      "text/plain": [
       "    ID   LBI   RTI   WDI    FLA   PSF   FSF  ZDF1  PROZD\n",
       "0   ar   NaN  35.3  2.60    NaN  42.4  24.2  47.1     69\n",
       "1  arn  1.23  27.0  3.59  122.0   0.0  40.0  40.0     30\n",
       "2   be  1.24  26.5  2.90  121.0  16.0  20.7  29.7     72\n",
       "3  bi1  1.07  29.1  3.10  114.0  44.0   2.6  26.3     68\n",
       "4  bi2  1.08  43.7  2.40  105.0  32.6   5.8  10.7     42"
      ]
     },
     "execution_count": 10,
     "metadata": {},
     "output_type": "execute_result"
    }
   ],
   "source": [
    "d = pandas.read_csv(open('StoneFlakes2.dat'),na_values='?',error_bad_lines=False)\n",
    "d[:5]"
   ]
  },
  {
   "cell_type": "code",
   "execution_count": 11,
   "metadata": {
    "collapsed": false
   },
   "outputs": [
    {
     "data": {
      "text/html": [
       "<div>\n",
       "<table border=\"1\" class=\"dataframe\">\n",
       "  <thead>\n",
       "    <tr style=\"text-align: right;\">\n",
       "      <th></th>\n",
       "      <th>ID</th>\n",
       "      <th>LBI</th>\n",
       "      <th>RTI</th>\n",
       "      <th>WDI</th>\n",
       "      <th>FLA</th>\n",
       "      <th>PSF</th>\n",
       "      <th>FSF</th>\n",
       "      <th>ZDF1</th>\n",
       "      <th>PROZD</th>\n",
       "    </tr>\n",
       "  </thead>\n",
       "  <tbody>\n",
       "    <tr>\n",
       "      <th>0</th>\n",
       "      <td>False</td>\n",
       "      <td>True</td>\n",
       "      <td>False</td>\n",
       "      <td>False</td>\n",
       "      <td>True</td>\n",
       "      <td>False</td>\n",
       "      <td>False</td>\n",
       "      <td>False</td>\n",
       "      <td>False</td>\n",
       "    </tr>\n",
       "    <tr>\n",
       "      <th>1</th>\n",
       "      <td>False</td>\n",
       "      <td>False</td>\n",
       "      <td>False</td>\n",
       "      <td>False</td>\n",
       "      <td>False</td>\n",
       "      <td>False</td>\n",
       "      <td>False</td>\n",
       "      <td>False</td>\n",
       "      <td>False</td>\n",
       "    </tr>\n",
       "    <tr>\n",
       "      <th>2</th>\n",
       "      <td>False</td>\n",
       "      <td>False</td>\n",
       "      <td>False</td>\n",
       "      <td>False</td>\n",
       "      <td>False</td>\n",
       "      <td>False</td>\n",
       "      <td>False</td>\n",
       "      <td>False</td>\n",
       "      <td>False</td>\n",
       "    </tr>\n",
       "    <tr>\n",
       "      <th>3</th>\n",
       "      <td>False</td>\n",
       "      <td>False</td>\n",
       "      <td>False</td>\n",
       "      <td>False</td>\n",
       "      <td>False</td>\n",
       "      <td>False</td>\n",
       "      <td>False</td>\n",
       "      <td>False</td>\n",
       "      <td>False</td>\n",
       "    </tr>\n",
       "    <tr>\n",
       "      <th>4</th>\n",
       "      <td>False</td>\n",
       "      <td>False</td>\n",
       "      <td>False</td>\n",
       "      <td>False</td>\n",
       "      <td>False</td>\n",
       "      <td>False</td>\n",
       "      <td>False</td>\n",
       "      <td>False</td>\n",
       "      <td>False</td>\n",
       "    </tr>\n",
       "  </tbody>\n",
       "</table>\n",
       "</div>"
      ],
      "text/plain": [
       "      ID    LBI    RTI    WDI    FLA    PSF    FSF   ZDF1  PROZD\n",
       "0  False   True  False  False   True  False  False  False  False\n",
       "1  False  False  False  False  False  False  False  False  False\n",
       "2  False  False  False  False  False  False  False  False  False\n",
       "3  False  False  False  False  False  False  False  False  False\n",
       "4  False  False  False  False  False  False  False  False  False"
      ]
     },
     "execution_count": 11,
     "metadata": {},
     "output_type": "execute_result"
    }
   ],
   "source": [
    "d[:5].isnull()"
   ]
  },
  {
   "cell_type": "code",
   "execution_count": 12,
   "metadata": {
    "collapsed": false
   },
   "outputs": [
    {
     "data": {
      "text/plain": [
       "0     True\n",
       "1    False\n",
       "2    False\n",
       "3    False\n",
       "4    False\n",
       "dtype: bool"
      ]
     },
     "execution_count": 12,
     "metadata": {},
     "output_type": "execute_result"
    }
   ],
   "source": [
    "d[:5].isnull().any(axis=1)"
   ]
  },
  {
   "cell_type": "code",
   "execution_count": 13,
   "metadata": {
    "collapsed": false
   },
   "outputs": [
    {
     "data": {
      "text/plain": [
       "0    False\n",
       "1     True\n",
       "2     True\n",
       "3     True\n",
       "4     True\n",
       "dtype: bool"
      ]
     },
     "execution_count": 13,
     "metadata": {},
     "output_type": "execute_result"
    }
   ],
   "source": [
    "d[:5].isnull().any(axis=1) == False"
   ]
  },
  {
   "cell_type": "code",
   "execution_count": 14,
   "metadata": {
    "collapsed": false
   },
   "outputs": [
    {
     "name": "stdout",
     "output_type": "stream",
     "text": [
      "(79, 9)\n",
      "(73, 9)\n"
     ]
    }
   ],
   "source": [
    "print(d.shape)\n",
    "d = d[d.isnull().any(axis=1)==False]\n",
    "print(d.shape)"
   ]
  },
  {
   "cell_type": "code",
   "execution_count": 4,
   "metadata": {
    "collapsed": true
   },
   "outputs": [],
   "source": [
    "import numpy as np\n",
    "import matplotlib.pyplot as plt\n",
    "%matplotlib inline"
   ]
  },
  {
   "cell_type": "code",
   "execution_count": 16,
   "metadata": {
    "collapsed": false
   },
   "outputs": [
    {
     "data": {
      "text/plain": [
       "(73, 8)"
      ]
     },
     "execution_count": 16,
     "metadata": {},
     "output_type": "execute_result"
    }
   ],
   "source": [
    "data = d.iloc[:,1:].values\n",
    "data.shape"
   ]
  },
  {
   "cell_type": "code",
   "execution_count": 17,
   "metadata": {
    "collapsed": false
   },
   "outputs": [
    {
     "data": {
      "text/plain": [
       "array([[   1.23,   27.  ,    3.59,  122.  ,    0.  ,   40.  ,   40.  ,\n",
       "          30.  ],\n",
       "       [   1.24,   26.5 ,    2.9 ,  121.  ,   16.  ,   20.7 ,   29.7 ,\n",
       "          72.  ],\n",
       "       [   1.07,   29.1 ,    3.1 ,  114.  ,   44.  ,    2.6 ,   26.3 ,\n",
       "          68.  ],\n",
       "       [   1.08,   43.7 ,    2.4 ,  105.  ,   32.6 ,    5.8 ,   10.7 ,\n",
       "          42.  ],\n",
       "       [   1.39,   29.5 ,    2.78,  126.  ,   14.  ,    0.  ,   50.  ,\n",
       "          78.  ]])"
      ]
     },
     "execution_count": 17,
     "metadata": {},
     "output_type": "execute_result"
    }
   ],
   "source": [
    "data[:5,:]"
   ]
  },
  {
   "cell_type": "markdown",
   "metadata": {},
   "source": [
    "To see this data, let's try plotting each column as a separate curve on the same axes."
   ]
  },
  {
   "cell_type": "code",
   "execution_count": 18,
   "metadata": {
    "collapsed": false
   },
   "outputs": [
    {
     "data": {
      "image/png": "[encoded data removed]",
      "text/plain": [
       "<matplotlib.figure.Figure at 0x7f88e0313fd0>"
      ]
     },
     "metadata": {},
     "output_type": "display_data"
    }
   ],
   "source": [
    "plt.plot(data);"
   ]
  },
  {
   "cell_type": "markdown",
   "metadata": {},
   "source": [
    "Each sample has 8 attribues, so each sample is a point in 8-dimensional space.  I wonder how well the samples \"clump\" in those 8 dimensions.  Let's try clustering them with the *k-means* algorithm.\n",
    "\n",
    "First, let's try to find two clusters, so $k=2$.  We must initialize the two means of the two clusters.  Let's just pick two samples at random."
   ]
  },
  {
   "cell_type": "code",
   "execution_count": 19,
   "metadata": {
    "collapsed": false
   },
   "outputs": [
    {
     "data": {
      "text/plain": [
       "array([50, 23])"
      ]
     },
     "execution_count": 19,
     "metadata": {},
     "output_type": "execute_result"
    }
   ],
   "source": [
    "np.random.choice(range(data.shape[0]),2, replace=False) # data.shape[0] is number of rows, or samples"
   ]
  },
  {
   "cell_type": "code",
   "execution_count": 20,
   "metadata": {
    "collapsed": false
   },
   "outputs": [
    {
     "data": {
      "text/plain": [
       "array([13, 53])"
      ]
     },
     "execution_count": 20,
     "metadata": {},
     "output_type": "execute_result"
    }
   ],
   "source": [
    "np.random.choice(range(data.shape[0]),2, replace=False)"
   ]
  },
  {
   "cell_type": "code",
   "execution_count": 21,
   "metadata": {
    "collapsed": false
   },
   "outputs": [
    {
     "data": {
      "text/plain": [
       "array([22, 33])"
      ]
     },
     "execution_count": 21,
     "metadata": {},
     "output_type": "execute_result"
    }
   ],
   "source": [
    "centersIndex = np.random.choice(range(data.shape[0]),2, replace=False)\n",
    "centersIndex"
   ]
  },
  {
   "cell_type": "code",
   "execution_count": 22,
   "metadata": {
    "collapsed": false
   },
   "outputs": [
    {
     "data": {
      "text/plain": [
       "array([[   1.07,   19.8 ,    4.15,  117.  ,    0.  ,   28.5 ,   61.9 ,\n",
       "          92.  ],\n",
       "       [   1.31,   26.5 ,    2.28,  126.  ,    2.1 ,   18.6 ,   34.  ,\n",
       "          77.  ]])"
      ]
     },
     "execution_count": 22,
     "metadata": {},
     "output_type": "execute_result"
    }
   ],
   "source": [
    "centers = data[centersIndex,:]\n",
    "centers"
   ]
  },
  {
   "cell_type": "markdown",
   "metadata": {},
   "source": [
    "Now we must find all samples that are closest to the first center, and those that are closest to the second sample.\n",
    "\n",
    "Check out the wonders of numpy broadcasting."
   ]
  },
  {
   "cell_type": "code",
   "execution_count": 23,
   "metadata": {
    "collapsed": false
   },
   "outputs": [
    {
     "data": {
      "text/plain": [
       "(array([1, 2, 3]), array([10, 20, 30]))"
      ]
     },
     "execution_count": 23,
     "metadata": {},
     "output_type": "execute_result"
    }
   ],
   "source": [
    "a = np.array([1,2,3])\n",
    "b = np.array([10,20,30])\n",
    "a, b"
   ]
  },
  {
   "cell_type": "code",
   "execution_count": 24,
   "metadata": {
    "collapsed": false
   },
   "outputs": [
    {
     "data": {
      "text/plain": [
       "array([ -9, -18, -27])"
      ]
     },
     "execution_count": 24,
     "metadata": {},
     "output_type": "execute_result"
    }
   ],
   "source": [
    "a-b"
   ]
  },
  {
   "cell_type": "markdown",
   "metadata": {},
   "source": [
    "But what if we want to subtract every element of a with every element of b?"
   ]
  },
  {
   "cell_type": "code",
   "execution_count": 25,
   "metadata": {
    "collapsed": false
   },
   "outputs": [
    {
     "data": {
      "text/plain": [
       "array([[1, 2, 3],\n",
       "       [1, 2, 3],\n",
       "       [1, 2, 3]])"
      ]
     },
     "execution_count": 25,
     "metadata": {},
     "output_type": "execute_result"
    }
   ],
   "source": [
    "np.resize(a,(3,3))"
   ]
  },
  {
   "cell_type": "code",
   "execution_count": 26,
   "metadata": {
    "collapsed": false
   },
   "outputs": [
    {
     "data": {
      "text/plain": [
       "array([[10, 20, 30],\n",
       "       [10, 20, 30],\n",
       "       [10, 20, 30]])"
      ]
     },
     "execution_count": 26,
     "metadata": {},
     "output_type": "execute_result"
    }
   ],
   "source": [
    "np.resize(b, (3,3))"
   ]
  },
  {
   "cell_type": "code",
   "execution_count": 27,
   "metadata": {
    "collapsed": false
   },
   "outputs": [
    {
     "data": {
      "text/plain": [
       "array([[1, 1, 1],\n",
       "       [2, 2, 2],\n",
       "       [3, 3, 3]])"
      ]
     },
     "execution_count": 27,
     "metadata": {},
     "output_type": "execute_result"
    }
   ],
   "source": [
    "np.resize(a,(3,3)).T"
   ]
  },
  {
   "cell_type": "code",
   "execution_count": 28,
   "metadata": {
    "collapsed": false
   },
   "outputs": [
    {
     "data": {
      "text/plain": [
       "array([[ -9, -19, -29],\n",
       "       [ -8, -18, -28],\n",
       "       [ -7, -17, -27]])"
      ]
     },
     "execution_count": 28,
     "metadata": {},
     "output_type": "execute_result"
    }
   ],
   "source": [
    "np.resize(a,(3,3)).T - np.resize(b,(3,3))"
   ]
  },
  {
   "cell_type": "markdown",
   "metadata": {},
   "source": [
    "However, we can ask numpy to do this duplication for us if we reshape a to be a column vector and leave b as a row vector.\n",
    "\n",
    "$$ \\begin{pmatrix}\n",
    "1\\\\\n",
    "2\\\\\n",
    "3\n",
    "\\end{pmatrix}\n",
    "-\n",
    "\\begin{pmatrix}\n",
    "10 & 20 & 30\n",
    "\\end{pmatrix}\n",
    "\\;\\; = \\;\\;\n",
    "\\begin{pmatrix}\n",
    "1 & 1 & 1\\\\\n",
    "2 & 2 & 2\\\\\n",
    "3 & 3 & 3\n",
    "\\end{pmatrix}\n",
    "-\n",
    "\\begin{pmatrix}\n",
    "10 & 20 & 30\\\\\n",
    "10 & 20 & 30\\\\\n",
    "10 & 20 & 30\n",
    "\\end{pmatrix}\n",
    "$$"
   ]
  },
  {
   "cell_type": "code",
   "execution_count": 29,
   "metadata": {
    "collapsed": false
   },
   "outputs": [
    {
     "data": {
      "text/plain": [
       "array([[1],\n",
       "       [2],\n",
       "       [3]])"
      ]
     },
     "execution_count": 29,
     "metadata": {},
     "output_type": "execute_result"
    }
   ],
   "source": [
    "a[:,np.newaxis]"
   ]
  },
  {
   "cell_type": "code",
   "execution_count": 30,
   "metadata": {
    "collapsed": false
   },
   "outputs": [
    {
     "data": {
      "text/plain": [
       "array([[1],\n",
       "       [2],\n",
       "       [3]])"
      ]
     },
     "execution_count": 30,
     "metadata": {},
     "output_type": "execute_result"
    }
   ],
   "source": [
    "a.reshape((-1,1))"
   ]
  },
  {
   "cell_type": "code",
   "execution_count": 31,
   "metadata": {
    "collapsed": false
   },
   "outputs": [
    {
     "data": {
      "text/plain": [
       "((3,), (3, 1))"
      ]
     },
     "execution_count": 31,
     "metadata": {},
     "output_type": "execute_result"
    }
   ],
   "source": [
    "a.shape, a[:,np.newaxis].shape"
   ]
  },
  {
   "cell_type": "code",
   "execution_count": 32,
   "metadata": {
    "collapsed": false
   },
   "outputs": [
    {
     "data": {
      "text/plain": [
       "array([[ -9, -19, -29],\n",
       "       [ -8, -18, -28],\n",
       "       [ -7, -17, -27]])"
      ]
     },
     "execution_count": 32,
     "metadata": {},
     "output_type": "execute_result"
    }
   ],
   "source": [
    "a[:,np.newaxis] - b"
   ]
  },
  {
   "cell_type": "code",
   "execution_count": 33,
   "metadata": {
    "collapsed": false
   },
   "outputs": [
    {
     "name": "stdout",
     "output_type": "stream",
     "text": [
      "[1 2 3]\n",
      "[[10 20 30]\n",
      " [40 50 60]]\n"
     ]
    }
   ],
   "source": [
    "a = np.array([1,2,3])\n",
    "b = np.array([[10,20,30],[40,50,60]])\n",
    "print(a)\n",
    "print(b)"
   ]
  },
  {
   "cell_type": "code",
   "execution_count": 34,
   "metadata": {
    "collapsed": false
   },
   "outputs": [
    {
     "data": {
      "text/plain": [
       "array([[ 9, 18, 27],\n",
       "       [39, 48, 57]])"
      ]
     },
     "execution_count": 34,
     "metadata": {},
     "output_type": "execute_result"
    }
   ],
   "source": [
    "b-a"
   ]
  },
  {
   "cell_type": "markdown",
   "metadata": {},
   "source": [
    "The single row vector a is duplicated for as many rows as there are in b!  We can use this to calculate the squared distance between a center and every sample."
   ]
  },
  {
   "cell_type": "code",
   "execution_count": 35,
   "metadata": {
    "collapsed": false
   },
   "outputs": [
    {
     "data": {
      "text/plain": [
       "array([   1.07,   19.8 ,    4.15,  117.  ,    0.  ,   28.5 ,   61.9 ,   92.  ])"
      ]
     },
     "execution_count": 35,
     "metadata": {},
     "output_type": "execute_result"
    }
   ],
   "source": [
    "centers[0,:]"
   ]
  },
  {
   "cell_type": "code",
   "execution_count": 36,
   "metadata": {
    "collapsed": false
   },
   "outputs": [
    {
     "data": {
      "text/plain": [
       "array([  4533.0392,   1816.1614,   4546.7625,   7417.7626,   1522.9293,\n",
       "         1853.0901,   1616.6825,   4016.9441,   4067.1089,   4774.4106,\n",
       "         2869.298 ,    171.2814,   2813.7094,   1710.4201,  10714.3412,\n",
       "          916.5974,    160.6406,    590.765 ,    200.0881,    771.9049,\n",
       "          279.5969,   1029.3541,      0.    ,    475.51  ,   6056.283 ,\n",
       "         3542.6969,   1936.3241,   2469.2781,   2375.3086,    223.8414,\n",
       "          499.0321,   1158.7321,    702.3124,   1235.2745,   4257.7686,\n",
       "         4185.8634,   2609.3389,   7800.2426,   2913.819 ,   2610.1594,\n",
       "         1056.7546,    198.265 ,    135.9154,    611.585 ,   2113.164 ,\n",
       "         3488.5437,    407.9841,    262.8289,    267.3774,    384.4646,\n",
       "           94.2037,    227.9418,     93.1409,   8692.9362,    275.5625,\n",
       "          385.1974,    154.775 ,    427.7186,   1216.0654,    495.3449,\n",
       "         4088.4934,   6727.3925,   1368.0845,    785.0674,   1213.0726,\n",
       "         6300.8706,   1145.3358,   2394.2104,   3583.6034,   5996.6013,\n",
       "         2368.2614,   3384.7264,   2381.0449])"
      ]
     },
     "execution_count": 36,
     "metadata": {},
     "output_type": "execute_result"
    }
   ],
   "source": [
    "np.sum((centers[0,:] - data)**2, axis=1)"
   ]
  },
  {
   "cell_type": "code",
   "execution_count": 37,
   "metadata": {
    "collapsed": false
   },
   "outputs": [
    {
     "data": {
      "text/plain": [
       "array([False, False, False, False, False, False, False, False, False,\n",
       "       False, False,  True, False, False, False,  True,  True,  True,\n",
       "        True, False,  True,  True,  True,  True, False, False, False,\n",
       "       False, False,  True,  True,  True,  True, False, False, False,\n",
       "       False, False, False, False,  True,  True,  True,  True, False,\n",
       "       False,  True,  True,  True,  True,  True,  True,  True, False,\n",
       "        True,  True,  True,  True, False,  True, False, False, False,\n",
       "       False, False, False,  True, False, False, False, False, False, False], dtype=bool)"
      ]
     },
     "execution_count": 37,
     "metadata": {},
     "output_type": "execute_result"
    }
   ],
   "source": [
    "np.sum((centers[1,:] - data)**2, axis=1) > np.sum((centers[0,:] - data)**2, axis=1)"
   ]
  },
  {
   "cell_type": "code",
   "execution_count": 38,
   "metadata": {
    "collapsed": false
   },
   "outputs": [
    {
     "data": {
      "text/plain": [
       "array([[   1.07,   19.8 ,    4.15,  117.  ,    0.  ,   28.5 ,   61.9 ,\n",
       "          92.  ],\n",
       "       [   1.31,   26.5 ,    2.28,  126.  ,    2.1 ,   18.6 ,   34.  ,\n",
       "          77.  ]])"
      ]
     },
     "execution_count": 38,
     "metadata": {},
     "output_type": "execute_result"
    }
   ],
   "source": [
    "centers"
   ]
  },
  {
   "cell_type": "code",
   "execution_count": 39,
   "metadata": {
    "collapsed": false
   },
   "outputs": [
    {
     "data": {
      "text/plain": [
       "((2, 1, 8), (73, 8))"
      ]
     },
     "execution_count": 39,
     "metadata": {},
     "output_type": "execute_result"
    }
   ],
   "source": [
    "centers[:,np.newaxis,:].shape, data.shape"
   ]
  },
  {
   "cell_type": "code",
   "execution_count": 40,
   "metadata": {
    "collapsed": false
   },
   "outputs": [
    {
     "data": {
      "text/plain": [
       "(2, 73, 8)"
      ]
     },
     "execution_count": 40,
     "metadata": {},
     "output_type": "execute_result"
    }
   ],
   "source": [
    "(centers[:,np.newaxis,:] - data).shape"
   ]
  },
  {
   "cell_type": "code",
   "execution_count": 41,
   "metadata": {
    "collapsed": false
   },
   "outputs": [
    {
     "data": {
      "text/plain": [
       "(2, 73)"
      ]
     },
     "execution_count": 41,
     "metadata": {},
     "output_type": "execute_result"
    }
   ],
   "source": [
    "np.sum((centers[:,np.newaxis,:] - data)**2, axis=2).shape"
   ]
  },
  {
   "cell_type": "code",
   "execution_count": 42,
   "metadata": {
    "collapsed": false
   },
   "outputs": [
    {
     "data": {
      "text/plain": [
       "array([1, 1, 1, 1, 1, 1, 1, 1, 1, 1, 1, 0, 1, 1, 1, 0, 0, 0, 0, 1, 0, 0, 0,\n",
       "       0, 1, 1, 1, 1, 1, 0, 0, 0, 0, 1, 1, 1, 1, 1, 1, 1, 0, 0, 0, 0, 1, 1,\n",
       "       0, 0, 0, 0, 0, 0, 0, 1, 0, 0, 0, 0, 1, 0, 1, 1, 1, 1, 1, 1, 0, 1, 1,\n",
       "       1, 1, 1, 1])"
      ]
     },
     "execution_count": 42,
     "metadata": {},
     "output_type": "execute_result"
    }
   ],
   "source": [
    "np.argmin(np.sum((centers[:,np.newaxis,:] - data)**2, axis=2), axis=0)"
   ]
  },
  {
   "cell_type": "code",
   "execution_count": 43,
   "metadata": {
    "collapsed": false
   },
   "outputs": [
    {
     "data": {
      "text/plain": [
       "array([1, 1, 1, 1, 1, 1, 1, 1, 1, 1, 1, 0, 1, 1, 1, 0, 0, 0, 0, 1, 0, 0, 0,\n",
       "       0, 1, 1, 1, 1, 1, 0, 0, 0, 0, 1, 1, 1, 1, 1, 1, 1, 0, 0, 0, 0, 1, 1,\n",
       "       0, 0, 0, 0, 0, 0, 0, 1, 0, 0, 0, 0, 1, 0, 1, 1, 1, 1, 1, 1, 0, 1, 1,\n",
       "       1, 1, 1, 1])"
      ]
     },
     "execution_count": 43,
     "metadata": {},
     "output_type": "execute_result"
    }
   ],
   "source": [
    "cluster = np.argmin(np.sum((centers[:,np.newaxis,:] - data)**2, axis=2), axis=0)\n",
    "cluster"
   ]
  },
  {
   "cell_type": "code",
   "execution_count": 44,
   "metadata": {
    "collapsed": false
   },
   "outputs": [
    {
     "data": {
      "text/plain": [
       "array([   1.216     ,   24.353     ,    3.484     ,  113.6       ,\n",
       "          6.22666667,   25.82333333,   68.19666667,   88.1       ])"
      ]
     },
     "execution_count": 44,
     "metadata": {},
     "output_type": "execute_result"
    }
   ],
   "source": [
    "data[cluster==0,:].mean(axis=0)"
   ]
  },
  {
   "cell_type": "code",
   "execution_count": 45,
   "metadata": {
    "collapsed": false
   },
   "outputs": [
    {
     "data": {
      "text/plain": [
       "array([   1.20209302,   30.66046512,    2.80488372,  120.04651163,\n",
       "         22.83023256,   12.58604651,   26.33953488,   65.27906977])"
      ]
     },
     "execution_count": 45,
     "metadata": {},
     "output_type": "execute_result"
    }
   ],
   "source": [
    "data[cluster==1,:].mean(axis=0)"
   ]
  },
  {
   "cell_type": "code",
   "execution_count": 46,
   "metadata": {
    "collapsed": true
   },
   "outputs": [],
   "source": [
    "k = 2\n",
    "for i in range(k):\n",
    "    centers[i,:] = data[cluster==i,:].mean(axis=0)"
   ]
  },
  {
   "cell_type": "code",
   "execution_count": 47,
   "metadata": {
    "collapsed": false
   },
   "outputs": [
    {
     "data": {
      "text/plain": [
       "array([[   1.216     ,   24.353     ,    3.484     ,  113.6       ,\n",
       "           6.22666667,   25.82333333,   68.19666667,   88.1       ],\n",
       "       [   1.20209302,   30.66046512,    2.80488372,  120.04651163,\n",
       "          22.83023256,   12.58604651,   26.33953488,   65.27906977]])"
      ]
     },
     "execution_count": 47,
     "metadata": {},
     "output_type": "execute_result"
    }
   ],
   "source": [
    "centers"
   ]
  },
  {
   "cell_type": "code",
   "execution_count": 48,
   "metadata": {
    "collapsed": true
   },
   "outputs": [],
   "source": [
    "def kmeans(data, k = 2, n = 5):\n",
    "    # Initial centers\n",
    "    centers = data[np.random.choice(range(data.shape[0]),k, replace=False), :]\n",
    "    # Repeat n times\n",
    "    for iteration in range(n):\n",
    "        # Which center is each sample closest to?\n",
    "        closest = np.argmin(np.sum((centers[:,np.newaxis,:] - data)**2, axis=2), axis=0)\n",
    "        # Update cluster centers\n",
    "        for i in range(k):\n",
    "            centers[i,:] = data[closest==i,:].mean(axis=0)\n",
    "    return centers"
   ]
  },
  {
   "cell_type": "code",
   "execution_count": 49,
   "metadata": {
    "collapsed": false
   },
   "outputs": [
    {
     "data": {
      "text/plain": [
       "array([[   1.18432432,   30.7027027 ,    2.8072973 ,  120.24324324,\n",
       "          24.56756757,   12.42432432,   22.74054054,   63.05405405],\n",
       "       [   1.23194444,   25.36083333,    3.36833333,  114.47222222,\n",
       "           7.20833333,   23.78333333,   64.91944444,   86.58333333]])"
      ]
     },
     "execution_count": 49,
     "metadata": {},
     "output_type": "execute_result"
    }
   ],
   "source": [
    "kmeans(data,2)"
   ]
  },
  {
   "cell_type": "code",
   "execution_count": 50,
   "metadata": {
    "collapsed": false
   },
   "outputs": [
    {
     "data": {
      "text/plain": [
       "array([[   1.23194444,   25.36083333,    3.36833333,  114.47222222,\n",
       "           7.20833333,   23.78333333,   64.91944444,   86.58333333],\n",
       "       [   1.18432432,   30.7027027 ,    2.8072973 ,  120.24324324,\n",
       "          24.56756757,   12.42432432,   22.74054054,   63.05405405]])"
      ]
     },
     "execution_count": 50,
     "metadata": {},
     "output_type": "execute_result"
    }
   ],
   "source": [
    "kmeans(data,2)"
   ]
  },
  {
   "cell_type": "markdown",
   "metadata": {},
   "source": [
    "Let's define $J$ from the book, which is a performance measure being minimized by *k-means*. It is defined on page 424 as\n",
    "$$\n",
    "J = \\sum_{n=1}^N \\sum_{k=1}^K r_{nk} ||\\mathbf{x}_n - \\mathbf{\\mu}_k||^2\n",
    "$$\n",
    "where $N$ is the number of samples, $K$ is the number of cluster centers, $\\mathbf{x}_n$ is the $n^{th}$ sample and $\\mathbf{\\mu}_k$ is the $k^{th}$ center, each being an element of $\\mathbf{R}^p$ where $p$ is the dimensionality of the data.\n",
    "\n",
    "The sums can be computed using python *for* loops, but *for* loops are much slower than matrix operations in python, as the following cells show."
   ]
  },
  {
   "cell_type": "code",
   "execution_count": 51,
   "metadata": {
    "collapsed": false
   },
   "outputs": [
    {
     "data": {
      "text/plain": [
       "array([[  0.        ,   0.34482759,   0.68965517,   1.03448276,\n",
       "          1.37931034,   1.72413793,   2.06896552,   2.4137931 ,\n",
       "          2.75862069,   3.10344828],\n",
       "       [  3.44827586,   3.79310345,   4.13793103,   4.48275862,\n",
       "          4.82758621,   5.17241379,   5.51724138,   5.86206897,\n",
       "          6.20689655,   6.55172414],\n",
       "       [  6.89655172,   7.24137931,   7.5862069 ,   7.93103448,\n",
       "          8.27586207,   8.62068966,   8.96551724,   9.31034483,\n",
       "          9.65517241,  10.        ]])"
      ]
     },
     "execution_count": 51,
     "metadata": {},
     "output_type": "execute_result"
    }
   ],
   "source": [
    "a = np.linspace(0,10,30).reshape(3,10)\n",
    "a"
   ]
  },
  {
   "cell_type": "code",
   "execution_count": 52,
   "metadata": {
    "collapsed": false
   },
   "outputs": [
    {
     "data": {
      "text/plain": [
       "array([[ 0,  1,  2,  3,  4,  5,  6,  7,  8,  9],\n",
       "       [10, 11, 12, 13, 14, 15, 16, 17, 18, 19],\n",
       "       [20, 21, 22, 23, 24, 25, 26, 27, 28, 29]])"
      ]
     },
     "execution_count": 52,
     "metadata": {},
     "output_type": "execute_result"
    }
   ],
   "source": [
    "b = np.arange(30).reshape(3,10)\n",
    "b"
   ]
  },
  {
   "cell_type": "code",
   "execution_count": 53,
   "metadata": {
    "collapsed": false
   },
   "outputs": [
    {
     "data": {
      "text/plain": [
       "array([[  0.        ,   1.34482759,   2.68965517,   4.03448276,\n",
       "          5.37931034,   6.72413793,   8.06896552,   9.4137931 ,\n",
       "         10.75862069,  12.10344828],\n",
       "       [ 13.44827586,  14.79310345,  16.13793103,  17.48275862,\n",
       "         18.82758621,  20.17241379,  21.51724138,  22.86206897,\n",
       "         24.20689655,  25.55172414],\n",
       "       [ 26.89655172,  28.24137931,  29.5862069 ,  30.93103448,\n",
       "         32.27586207,  33.62068966,  34.96551724,  36.31034483,\n",
       "         37.65517241,  39.        ]])"
      ]
     },
     "execution_count": 53,
     "metadata": {},
     "output_type": "execute_result"
    }
   ],
   "source": [
    "result = np.zeros((3,10))\n",
    "for i in range(3):\n",
    "    for j in range(10):\n",
    "        result[i,j] = a[i,j] + b[i,j]\n",
    "result"
   ]
  },
  {
   "cell_type": "code",
   "execution_count": 54,
   "metadata": {
    "collapsed": false
   },
   "outputs": [
    {
     "name": "stdout",
     "output_type": "stream",
     "text": [
      "10000 loops, best of 3: 50.6 µs per loop\n"
     ]
    }
   ],
   "source": [
    "%%timeit\n",
    "result = np.zeros((3,10))\n",
    "for i in range(3):\n",
    "    for j in range(10):\n",
    "        result[i,j] = a[i,j] + b[i,j]"
   ]
  },
  {
   "cell_type": "code",
   "execution_count": 55,
   "metadata": {
    "collapsed": false
   },
   "outputs": [
    {
     "data": {
      "text/plain": [
       "array([[  0.        ,   1.34482759,   2.68965517,   4.03448276,\n",
       "          5.37931034,   6.72413793,   8.06896552,   9.4137931 ,\n",
       "         10.75862069,  12.10344828],\n",
       "       [ 13.44827586,  14.79310345,  16.13793103,  17.48275862,\n",
       "         18.82758621,  20.17241379,  21.51724138,  22.86206897,\n",
       "         24.20689655,  25.55172414],\n",
       "       [ 26.89655172,  28.24137931,  29.5862069 ,  30.93103448,\n",
       "         32.27586207,  33.62068966,  34.96551724,  36.31034483,\n",
       "         37.65517241,  39.        ]])"
      ]
     },
     "execution_count": 55,
     "metadata": {},
     "output_type": "execute_result"
    }
   ],
   "source": [
    "result = a + b\n",
    "result"
   ]
  },
  {
   "cell_type": "code",
   "execution_count": 56,
   "metadata": {
    "collapsed": false
   },
   "outputs": [
    {
     "name": "stdout",
     "output_type": "stream",
     "text": [
      "The slowest run took 15.88 times longer than the fastest. This could mean that an intermediate result is being cached.\n",
      "100000 loops, best of 3: 4.6 µs per loop\n"
     ]
    }
   ],
   "source": [
    "%%timeit\n",
    "result = a + b"
   ]
  },
  {
   "cell_type": "markdown",
   "metadata": {},
   "source": [
    "So, the matrix form is 10 times faster!\n",
    "\n",
    "Now, back to our problem.  How can we use matrix operations to calculate the squared distance between two centers and, say, five data samples?  Let's say both are two-dimensional."
   ]
  },
  {
   "cell_type": "code",
   "execution_count": 57,
   "metadata": {
    "collapsed": false
   },
   "outputs": [
    {
     "data": {
      "text/plain": [
       "array([[1, 2],\n",
       "       [5, 4]])"
      ]
     },
     "execution_count": 57,
     "metadata": {},
     "output_type": "execute_result"
    }
   ],
   "source": [
    "centers = np.array([[1,2],[5,4]])\n",
    "centers"
   ]
  },
  {
   "cell_type": "code",
   "execution_count": 58,
   "metadata": {
    "collapsed": false
   },
   "outputs": [
    {
     "data": {
      "text/plain": [
       "array([[3, 2],\n",
       "       [4, 6],\n",
       "       [7, 3],\n",
       "       [4, 6],\n",
       "       [1, 8]])"
      ]
     },
     "execution_count": 58,
     "metadata": {},
     "output_type": "execute_result"
    }
   ],
   "source": [
    "data = np.array([[3,2],[4,6],[7,3],[4,6],[1,8]])\n",
    "data"
   ]
  },
  {
   "cell_type": "markdown",
   "metadata": {},
   "source": [
    "This will be a little weird, and hard to understand, but by adding an empty dimension to the *centers* array, numpy broadcasting does all the work for us. "
   ]
  },
  {
   "cell_type": "code",
   "execution_count": 59,
   "metadata": {
    "collapsed": false
   },
   "outputs": [
    {
     "data": {
      "text/plain": [
       "array([[[1, 2]],\n",
       "\n",
       "       [[5, 4]]])"
      ]
     },
     "execution_count": 59,
     "metadata": {},
     "output_type": "execute_result"
    }
   ],
   "source": [
    "centers[:,np.newaxis,:]"
   ]
  },
  {
   "cell_type": "code",
   "execution_count": 60,
   "metadata": {
    "collapsed": false
   },
   "outputs": [
    {
     "data": {
      "text/plain": [
       "(2, 1, 2)"
      ]
     },
     "execution_count": 60,
     "metadata": {},
     "output_type": "execute_result"
    }
   ],
   "source": [
    "centers[:,np.newaxis,:].shape"
   ]
  },
  {
   "cell_type": "code",
   "execution_count": 61,
   "metadata": {
    "collapsed": false
   },
   "outputs": [
    {
     "data": {
      "text/plain": [
       "(5, 2)"
      ]
     },
     "execution_count": 61,
     "metadata": {},
     "output_type": "execute_result"
    }
   ],
   "source": [
    "data.shape"
   ]
  },
  {
   "cell_type": "code",
   "execution_count": 62,
   "metadata": {
    "collapsed": false
   },
   "outputs": [
    {
     "data": {
      "text/plain": [
       "array([[[ 4,  0],\n",
       "        [ 9, 16],\n",
       "        [36,  1],\n",
       "        [ 9, 16],\n",
       "        [ 0, 36]],\n",
       "\n",
       "       [[ 4,  4],\n",
       "        [ 1,  4],\n",
       "        [ 4,  1],\n",
       "        [ 1,  4],\n",
       "        [16, 16]]])"
      ]
     },
     "execution_count": 62,
     "metadata": {},
     "output_type": "execute_result"
    }
   ],
   "source": [
    "diffsq = (centers[:,np.newaxis,:] - data)**2\n",
    "diffsq"
   ]
  },
  {
   "cell_type": "code",
   "execution_count": 63,
   "metadata": {
    "collapsed": false
   },
   "outputs": [
    {
     "data": {
      "text/plain": [
       "(2, 5, 2)"
      ]
     },
     "execution_count": 63,
     "metadata": {},
     "output_type": "execute_result"
    }
   ],
   "source": [
    "diffsq.shape"
   ]
  },
  {
   "cell_type": "code",
   "execution_count": 64,
   "metadata": {
    "collapsed": false
   },
   "outputs": [
    {
     "data": {
      "text/plain": [
       "array([[ 4, 25, 37, 25, 36],\n",
       "       [ 8,  5,  5,  5, 32]])"
      ]
     },
     "execution_count": 64,
     "metadata": {},
     "output_type": "execute_result"
    }
   ],
   "source": [
    "np.sum(diffsq,axis=2)"
   ]
  },
  {
   "cell_type": "markdown",
   "metadata": {},
   "source": [
    "Now we have a 2 x 5 array with the first row containing the squared distance from the first center to each of the five data samples, and the second row containing the squared distances from the second center to each of the five data samples.\n",
    "\n",
    "Now we just have to find the smallest distance in each column and sum them up."
   ]
  },
  {
   "cell_type": "code",
   "execution_count": 65,
   "metadata": {
    "collapsed": false
   },
   "outputs": [
    {
     "data": {
      "text/plain": [
       "array([ 4,  5,  5,  5, 32])"
      ]
     },
     "execution_count": 65,
     "metadata": {},
     "output_type": "execute_result"
    }
   ],
   "source": [
    "np.min(np.sum(diffsq,axis=2), axis=0)"
   ]
  },
  {
   "cell_type": "code",
   "execution_count": 66,
   "metadata": {
    "collapsed": false
   },
   "outputs": [
    {
     "data": {
      "text/plain": [
       "51"
      ]
     },
     "execution_count": 66,
     "metadata": {},
     "output_type": "execute_result"
    }
   ],
   "source": [
    "np.sum(np.min(np.sum(diffsq,axis=2), axis=0))"
   ]
  },
  {
   "cell_type": "markdown",
   "metadata": {},
   "source": [
    "Let's define a function named *calcJ* to do this calculation."
   ]
  },
  {
   "cell_type": "code",
   "execution_count": 7,
   "metadata": {
    "collapsed": true
   },
   "outputs": [],
   "source": [
    "def calcJ(data,centers):\n",
    "    diffsq = (centers[:,np.newaxis,:] - data)**2\n",
    "    return np.sum(np.min(np.sum(diffsq,axis=2), axis=0))"
   ]
  },
  {
   "cell_type": "code",
   "execution_count": 68,
   "metadata": {
    "collapsed": false
   },
   "outputs": [
    {
     "data": {
      "text/plain": [
       "51"
      ]
     },
     "execution_count": 68,
     "metadata": {},
     "output_type": "execute_result"
    }
   ],
   "source": [
    "calcJ(data,centers)"
   ]
  },
  {
   "cell_type": "code",
   "execution_count": 1,
   "metadata": {
    "collapsed": true
   },
   "outputs": [],
   "source": [
    "def kmeans(data, k = 2, n = 5):\n",
    "    # Initialize centers and list J to track performance metric\n",
    "    centers = data[np.random.choice(range(data.shape[0]),k,replace=False), :]\n",
    "    J = []\n",
    "    \n",
    "    # Repeat n times\n",
    "    for iteration in range(n):\n",
    "        \n",
    "        # Which center is each sample closest to?\n",
    "        sqdistances = np.sum((centers[:,np.newaxis,:] - data)**2, axis=2)\n",
    "        closest = np.argmin(sqdistances, axis=0)\n",
    "        \n",
    "        # Calculate J and append to list J\n",
    "        J.append(calcJ(data,centers))\n",
    "        \n",
    "        # Update cluster centers\n",
    "        for i in range(k):\n",
    "            centers[i,:] = data[closest==i,:].mean(axis=0)\n",
    "            \n",
    "    # Calculate J one final time and return results\n",
    "    J.append(calcJ(data,centers))\n",
    "    return centers,J,closest"
   ]
  },
  {
   "cell_type": "code",
   "execution_count": 70,
   "metadata": {
    "collapsed": true
   },
   "outputs": [],
   "source": [
    "centers,J,closest = kmeans(data,2)"
   ]
  },
  {
   "cell_type": "code",
   "execution_count": 71,
   "metadata": {
    "collapsed": false
   },
   "outputs": [
    {
     "data": {
      "text/plain": [
       "[30, 19, 19, 19, 19, 19]"
      ]
     },
     "execution_count": 71,
     "metadata": {},
     "output_type": "execute_result"
    }
   ],
   "source": [
    "J"
   ]
  },
  {
   "cell_type": "code",
   "execution_count": 72,
   "metadata": {
    "collapsed": false
   },
   "outputs": [
    {
     "data": {
      "image/png": "[encoded data removed]",
      "text/plain": [
       "<matplotlib.figure.Figure at 0x7f88dbbb36d8>"
      ]
     },
     "metadata": {},
     "output_type": "display_data"
    }
   ],
   "source": [
    "plt.plot(J);"
   ]
  },
  {
   "cell_type": "code",
   "execution_count": 73,
   "metadata": {
    "collapsed": false
   },
   "outputs": [
    {
     "data": {
      "image/png": "[encoded data removed]",
      "text/plain": [
       "<matplotlib.figure.Figure at 0x7f88da352048>"
      ]
     },
     "metadata": {},
     "output_type": "display_data"
    }
   ],
   "source": [
    "centers,J,closest = kmeans(data,2,10)\n",
    "plt.plot(J);"
   ]
  },
  {
   "cell_type": "code",
   "execution_count": 74,
   "metadata": {
    "collapsed": false
   },
   "outputs": [
    {
     "data": {
      "image/png": "[encoded data removed]",
      "text/plain": [
       "<matplotlib.figure.Figure at 0x7f88da28d940>"
      ]
     },
     "metadata": {},
     "output_type": "display_data"
    }
   ],
   "source": [
    "centers,J,closest = kmeans(data,3,10)\n",
    "plt.plot(J);"
   ]
  },
  {
   "cell_type": "code",
   "execution_count": 75,
   "metadata": {
    "collapsed": true
   },
   "outputs": [],
   "source": [
    "small = np.array([[8,7],[7,6.6],[9.2,8.3],[6.8,9.2], [1.2,3.2],[4.8,2.3],[3.4,3.2],[3.2,5.6],[1,4],[2,2.2]])"
   ]
  },
  {
   "cell_type": "code",
   "execution_count": 76,
   "metadata": {
    "collapsed": false
   },
   "outputs": [
    {
     "data": {
      "image/png": "[encoded data removed]",
      "text/plain": [
       "<matplotlib.figure.Figure at 0x7f88da2fdf98>"
      ]
     },
     "metadata": {},
     "output_type": "display_data"
    }
   ],
   "source": [
    "plt.scatter(small[:,0],small[:,1]);"
   ]
  },
  {
   "cell_type": "code",
   "execution_count": 85,
   "metadata": {
    "collapsed": true
   },
   "outputs": [],
   "source": [
    "c,J,closest = kmeans(small,2,n=2)"
   ]
  },
  {
   "cell_type": "code",
   "execution_count": 78,
   "metadata": {
    "collapsed": false
   },
   "outputs": [
    {
     "data": {
      "text/plain": [
       "array([[ 7.75      ,  7.775     ],\n",
       "       [ 2.6       ,  3.41666667]])"
      ]
     },
     "execution_count": 78,
     "metadata": {},
     "output_type": "execute_result"
    }
   ],
   "source": [
    "c"
   ]
  },
  {
   "cell_type": "code",
   "execution_count": 79,
   "metadata": {
    "collapsed": false
   },
   "outputs": [
    {
     "data": {
      "text/plain": [
       "array([0, 0, 0, 0, 1, 1, 1, 1, 1, 1])"
      ]
     },
     "execution_count": 79,
     "metadata": {},
     "output_type": "execute_result"
    }
   ],
   "source": [
    "closest"
   ]
  },
  {
   "cell_type": "code",
   "execution_count": 80,
   "metadata": {
    "collapsed": false
   },
   "outputs": [
    {
     "data": {
      "image/png": "[encoded data removed]",
      "text/plain": [
       "<matplotlib.figure.Figure at 0x7f88da20b5c0>"
      ]
     },
     "metadata": {},
     "output_type": "display_data"
    }
   ],
   "source": [
    "plt.scatter(small[:,0], small[:,1], s=80, c=closest, alpha=0.5);\n",
    "plt.scatter(c[:,0],c[:,1],s=80,c=\"green\",alpha=0.5);"
   ]
  },
  {
   "cell_type": "code",
   "execution_count": 81,
   "metadata": {
    "collapsed": false
   },
   "outputs": [
    {
     "data": {
      "image/png": "[encoded data removed]",
      "text/plain": [
       "<matplotlib.figure.Figure at 0x7f88da1f2400>"
      ]
     },
     "metadata": {},
     "output_type": "display_data"
    }
   ],
   "source": [
    "c,J,closest = kmeans(small,2,n=2)\n",
    "plt.scatter(small[:,0], small[:,1], s=80, c=closest, alpha=0.5);\n",
    "plt.scatter(c[:,0],c[:,1],s=80,c=\"green\",alpha=0.5);"
   ]
  },
  {
   "cell_type": "code",
   "execution_count": 82,
   "metadata": {
    "collapsed": false
   },
   "outputs": [
    {
     "data": {
      "text/plain": [
       "[70.859999999999985, 26.565833333333334, 26.565833333333334]"
      ]
     },
     "execution_count": 82,
     "metadata": {},
     "output_type": "execute_result"
    }
   ],
   "source": [
    "J"
   ]
  },
  {
   "cell_type": "code",
   "execution_count": 5,
   "metadata": {
    "collapsed": false
   },
   "outputs": [
    {
     "data": {
      "text/plain": [
       "((50000, 784), (50000, 1), (10000, 784), (10000, 1))"
      ]
     },
     "execution_count": 5,
     "metadata": {},
     "output_type": "execute_result"
    }
   ],
   "source": [
    "import gzip\n",
    "import pickle\n",
    "\n",
    "with gzip.open('mnist.pkl.gz', 'rb') as f:\n",
    "    train_set, valid_set, test_set = pickle.load(f, encoding='latin1')\n",
    "    # zero = train_set[0][1,:].reshape((28,28,1))\n",
    "    # one = train_set[0][3,:].reshape((28,28,1))\n",
    "    # two = train_set[0][5,:].reshape((28,28,1))\n",
    "    # four = train_set[0][20,:].reshape((28,28,1))\n",
    "\n",
    "X = train_set[0]\n",
    "T = train_set[1].reshape((-1,1))\n",
    "\n",
    "Xtest = test_set[0]\n",
    "Ttest = test_set[1].reshape((-1,1))\n",
    "\n",
    "X.shape, T.shape, Xtest.shape, Ttest.shape"
   ]
  },
  {
   "cell_type": "code",
   "execution_count": 8,
   "metadata": {
    "collapsed": true
   },
   "outputs": [],
   "source": [
    "c,J,closest = kmeans(X, k=10, n=20)"
   ]
  },
  {
   "cell_type": "code",
   "execution_count": 10,
   "metadata": {
    "collapsed": false
   },
   "outputs": [
    {
     "data": {
      "text/plain": [
       "[<matplotlib.lines.Line2D at 0x7f6c9c22fc18>]"
      ]
     },
     "execution_count": 10,
     "metadata": {},
     "output_type": "execute_result"
    },
    {
     "data": {
      "image/png": "[encoded data removed]",
      "text/plain": [
       "<matplotlib.figure.Figure at 0x7f6ca7fd2550>"
      ]
     },
     "metadata": {},
     "output_type": "display_data"
    }
   ],
   "source": [
    "plt.plot(J)"
   ]
  },
  {
   "cell_type": "code",
   "execution_count": 11,
   "metadata": {
    "collapsed": false
   },
   "outputs": [
    {
     "data": {
      "text/plain": [
       "(10, 784)"
      ]
     },
     "execution_count": 11,
     "metadata": {},
     "output_type": "execute_result"
    }
   ],
   "source": [
    "c.shape"
   ]
  },
  {
   "cell_type": "code",
   "execution_count": 12,
   "metadata": {
    "collapsed": false
   },
   "outputs": [
    {
     "data": {
      "image/png": "[encoded data removed]",
      "text/plain": [
       "<matplotlib.figure.Figure at 0x7f6c9c2027b8>"
      ]
     },
     "metadata": {},
     "output_type": "display_data"
    }
   ],
   "source": [
    "for i in range(10):\n",
    "    plt.subplot(2,5,i+1)\n",
    "    plt.imshow(-c[i,:].reshape((28,28)), interpolation='nearest', cmap='gray')\n",
    "    plt.axis('off')"
   ]
  },
  {
   "cell_type": "code",
   "execution_count": 16,
   "metadata": {
    "collapsed": false
   },
   "outputs": [
    {
     "data": {
      "image/png": "[encoded data removed]",
      "text/plain": [
       "<matplotlib.figure.Figure at 0x7f6cb3bf1fd0>"
      ]
     },
     "metadata": {},
     "output_type": "display_data"
    },
    {
     "data": {
      "image/png": "[encoded data removed]",
      "text/plain": [
       "<matplotlib.figure.Figure at 0x7f6cb3b122b0>"
      ]
     },
     "metadata": {},
     "output_type": "display_data"
    }
   ],
   "source": [
    "c,J,closest = kmeans(X, k=10, n=20)\n",
    "plt.plot(J)\n",
    "plt.figure()\n",
    "for i in range(10):\n",
    "    plt.subplot(2,5,i+1)\n",
    "    plt.imshow(-c[i,:].reshape((28,28)), interpolation='nearest', cmap='gray')\n",
    "    plt.axis('off')"
   ]
  },
  {
   "cell_type": "code",
   "execution_count": 15,
   "metadata": {
    "collapsed": false
   },
   "outputs": [
    {
     "data": {
      "image/png": "[encoded data removed]",
      "text/plain": [
       "<matplotlib.figure.Figure at 0x7f6cb3bf10b8>"
      ]
     },
     "metadata": {},
     "output_type": "display_data"
    },
    {
     "data": {
      "image/png": "[encoded data removed]",
      "text/plain": [
       "<matplotlib.figure.Figure at 0x7f6cb3bf1c50>"
      ]
     },
     "metadata": {},
     "output_type": "display_data"
    }
   ],
   "source": [
    "c,J,closest = kmeans(X, k=20, n=20)\n",
    "plt.plot(J)\n",
    "plt.figure()\n",
    "for i in range(20):\n",
    "    plt.subplot(4,5,i+1)\n",
    "    plt.imshow(-c[i,:].reshape((28,28)), interpolation='nearest', cmap='gray')\n",
    "    plt.axis('off')"
   ]
  },
  {
   "cell_type": "code",
   "execution_count": null,
   "metadata": {
    "collapsed": true
   },
   "outputs": [],
   "source": []
  }
 ],
 "metadata": {
  "kernelspec": {
   "display_name": "Python [default]",
   "language": "python",
   "name": "python3"
  },
  "language_info": {
   "codemirror_mode": {
    "name": "ipython",
    "version": 3
   },
   "file_extension": ".py",
   "mimetype": "text/x-python",
   "name": "python",
   "nbconvert_exporter": "python",
   "pygments_lexer": "ipython3",
   "version": "3.5.2"
  }
 },
 "nbformat": 4,
 "nbformat_minor": 1
}
